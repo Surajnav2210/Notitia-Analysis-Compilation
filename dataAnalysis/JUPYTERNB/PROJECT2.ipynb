{
 "cells": [
  {
   "cell_type": "code",
   "execution_count": 1,
   "id": "21b8f1a0",
   "metadata": {
    "slideshow": {
     "slide_type": "slide"
    }
   },
   "outputs": [],
   "source": [
    "import pandas as pd\n",
    "import numpy as np\n",
    "import matplotlib.pyplot as plt\n",
    "from sklearn.model_selection import train_test_split\n",
    "from sklearn.preprocessing import StandardScaler\n",
    "from sklearn.model_selection import train_test_split\n",
    "from tensorflow.keras.utils import to_categorical\n",
    "from keras.models import Sequential\n",
    "from keras.layers import Dense\n",
    "from pandas.plotting import radviz\n",
    "from sklearn.neighbors import KNeighborsClassifier \n",
    "\n",
    "scale = StandardScaler()\n",
    "KNN = KNeighborsClassifier()\n",
    "%matplotlib inline "
   ]
  },
  {
   "cell_type": "code",
   "execution_count": 2,
   "id": "978755f5",
   "metadata": {
    "slideshow": {
     "slide_type": "subslide"
    }
   },
   "outputs": [],
   "source": [
    "df = pd.read_csv(\"diabetes.csv\")"
   ]
  },
  {
   "cell_type": "code",
   "execution_count": 3,
   "id": "94062520",
   "metadata": {
    "slideshow": {
     "slide_type": "fragment"
    }
   },
   "outputs": [
    {
     "data": {
      "text/html": [
       "<div>\n",
       "<style scoped>\n",
       "    .dataframe tbody tr th:only-of-type {\n",
       "        vertical-align: middle;\n",
       "    }\n",
       "\n",
       "    .dataframe tbody tr th {\n",
       "        vertical-align: top;\n",
       "    }\n",
       "\n",
       "    .dataframe thead th {\n",
       "        text-align: right;\n",
       "    }\n",
       "</style>\n",
       "<table border=\"1\" class=\"dataframe\">\n",
       "  <thead>\n",
       "    <tr style=\"text-align: right;\">\n",
       "      <th></th>\n",
       "      <th>Pregnancies</th>\n",
       "      <th>Glucose</th>\n",
       "      <th>BloodPressure</th>\n",
       "      <th>SkinThickness</th>\n",
       "      <th>Insulin</th>\n",
       "      <th>BMI</th>\n",
       "      <th>DiabetesPedigreeFunction</th>\n",
       "      <th>Age</th>\n",
       "      <th>Outcome</th>\n",
       "    </tr>\n",
       "  </thead>\n",
       "  <tbody>\n",
       "    <tr>\n",
       "      <th>0</th>\n",
       "      <td>6</td>\n",
       "      <td>148</td>\n",
       "      <td>72</td>\n",
       "      <td>35</td>\n",
       "      <td>0</td>\n",
       "      <td>33.6</td>\n",
       "      <td>0.627</td>\n",
       "      <td>50</td>\n",
       "      <td>1</td>\n",
       "    </tr>\n",
       "    <tr>\n",
       "      <th>1</th>\n",
       "      <td>1</td>\n",
       "      <td>85</td>\n",
       "      <td>66</td>\n",
       "      <td>29</td>\n",
       "      <td>0</td>\n",
       "      <td>26.6</td>\n",
       "      <td>0.351</td>\n",
       "      <td>31</td>\n",
       "      <td>0</td>\n",
       "    </tr>\n",
       "    <tr>\n",
       "      <th>2</th>\n",
       "      <td>8</td>\n",
       "      <td>183</td>\n",
       "      <td>64</td>\n",
       "      <td>0</td>\n",
       "      <td>0</td>\n",
       "      <td>23.3</td>\n",
       "      <td>0.672</td>\n",
       "      <td>32</td>\n",
       "      <td>1</td>\n",
       "    </tr>\n",
       "    <tr>\n",
       "      <th>3</th>\n",
       "      <td>1</td>\n",
       "      <td>89</td>\n",
       "      <td>66</td>\n",
       "      <td>23</td>\n",
       "      <td>94</td>\n",
       "      <td>28.1</td>\n",
       "      <td>0.167</td>\n",
       "      <td>21</td>\n",
       "      <td>0</td>\n",
       "    </tr>\n",
       "    <tr>\n",
       "      <th>4</th>\n",
       "      <td>0</td>\n",
       "      <td>137</td>\n",
       "      <td>40</td>\n",
       "      <td>35</td>\n",
       "      <td>168</td>\n",
       "      <td>43.1</td>\n",
       "      <td>2.288</td>\n",
       "      <td>33</td>\n",
       "      <td>1</td>\n",
       "    </tr>\n",
       "  </tbody>\n",
       "</table>\n",
       "</div>"
      ],
      "text/plain": [
       "   Pregnancies  Glucose  BloodPressure  SkinThickness  Insulin   BMI  \\\n",
       "0            6      148             72             35        0  33.6   \n",
       "1            1       85             66             29        0  26.6   \n",
       "2            8      183             64              0        0  23.3   \n",
       "3            1       89             66             23       94  28.1   \n",
       "4            0      137             40             35      168  43.1   \n",
       "\n",
       "   DiabetesPedigreeFunction  Age  Outcome  \n",
       "0                     0.627   50        1  \n",
       "1                     0.351   31        0  \n",
       "2                     0.672   32        1  \n",
       "3                     0.167   21        0  \n",
       "4                     2.288   33        1  "
      ]
     },
     "execution_count": 3,
     "metadata": {},
     "output_type": "execute_result"
    }
   ],
   "source": [
    "df.head()"
   ]
  },
  {
   "cell_type": "code",
   "execution_count": 4,
   "id": "905cf992",
   "metadata": {
    "slideshow": {
     "slide_type": "fragment"
    }
   },
   "outputs": [
    {
     "name": "stdout",
     "output_type": "stream",
     "text": [
      "<class 'pandas.core.frame.DataFrame'>\n",
      "RangeIndex: 768 entries, 0 to 767\n",
      "Data columns (total 9 columns):\n",
      " #   Column                    Non-Null Count  Dtype  \n",
      "---  ------                    --------------  -----  \n",
      " 0   Pregnancies               768 non-null    int64  \n",
      " 1   Glucose                   768 non-null    int64  \n",
      " 2   BloodPressure             768 non-null    int64  \n",
      " 3   SkinThickness             768 non-null    int64  \n",
      " 4   Insulin                   768 non-null    int64  \n",
      " 5   BMI                       768 non-null    float64\n",
      " 6   DiabetesPedigreeFunction  768 non-null    float64\n",
      " 7   Age                       768 non-null    int64  \n",
      " 8   Outcome                   768 non-null    int64  \n",
      "dtypes: float64(2), int64(7)\n",
      "memory usage: 54.1 KB\n"
     ]
    }
   ],
   "source": [
    "df.info()"
   ]
  },
  {
   "cell_type": "code",
   "execution_count": 5,
   "id": "1aefffdf",
   "metadata": {
    "slideshow": {
     "slide_type": "slide"
    }
   },
   "outputs": [
    {
     "data": {
      "image/png": "[encoded data removed]",
      "text/plain": [
       "<Figure size 1080x1080 with 1 Axes>"
      ]
     },
     "metadata": {
      "needs_background": "light"
     },
     "output_type": "display_data"
    }
   ],
   "source": [
    "df.groupby('Age')['Outcome'].value_counts().unstack('Outcome').plot(kind='barh', stacked=True,\n",
    "                                                                    figsize=(15, 15),colormap = \"Accent\");"
   ]
  },
  {
   "cell_type": "markdown",
   "id": "3c92ab5f",
   "metadata": {
    "slideshow": {
     "slide_type": "subslide"
    }
   },
   "source": [
    "It is clearly visible here that younger people have a lower percentage of diabetes than the older segment but it is also visible that a larger number of them have diabetes compared to the older sections . \n",
    "*For Example in the 70's people are guranteed of diabetes.*"
   ]
  },
  {
   "cell_type": "code",
   "execution_count": 6,
   "id": "b67f5a77",
   "metadata": {
    "slideshow": {
     "slide_type": "slide"
    }
   },
   "outputs": [
    {
     "data": {
      "image/png": "[encoded data removed]",
      "text/plain": [
       "<Figure size 1080x1080 with 1 Axes>"
      ]
     },
     "metadata": {
      "needs_background": "light"
     },
     "output_type": "display_data"
    }
   ],
   "source": [
    "df.groupby('Pregnancies')['Outcome'].value_counts().unstack('Outcome').plot(kind='barh', stacked=True,\n",
    "                                                                    figsize=(15, 15),colormap = \"coolwarm\");"
   ]
  },
  {
   "cell_type": "markdown",
   "id": "9af80aae",
   "metadata": {
    "slideshow": {
     "slide_type": "subslide"
    }
   },
   "source": [
    "We see a similar strnd with pregnancies , the more the more chances of acquiring diabetes"
   ]
  },
  {
   "cell_type": "code",
   "execution_count": 7,
   "id": "1e178228",
   "metadata": {
    "slideshow": {
     "slide_type": "slide"
    }
   },
   "outputs": [
    {
     "data": {
      "image/png": "[encoded data removed]",
      "text/plain": [
       "<Figure size 1080x1080 with 1 Axes>"
      ]
     },
     "metadata": {
      "needs_background": "light"
     },
     "output_type": "display_data"
    }
   ],
   "source": [
    "df.groupby('SkinThickness')['Outcome'].value_counts().unstack('Outcome').plot(kind='barh', stacked=True,\n",
    "                                                                    figsize=(15, 15),colormap = \"plasma\");"
   ]
  },
  {
   "cell_type": "markdown",
   "id": "ecaf7919",
   "metadata": {
    "slideshow": {
     "slide_type": "subslide"
    }
   },
   "source": [
    "Here we can see that the end points have lesser chances of being a diabetic and in the region closer to the median is where the chances are high"
   ]
  },
  {
   "cell_type": "markdown",
   "id": "2e74f4e2",
   "metadata": {
    "slideshow": {
     "slide_type": "slide"
    }
   },
   "source": [
    "*****Now we can train a neural network based on the information we have to predict if a person is a diabetic .*****"
   ]
  },
  {
   "cell_type": "code",
   "execution_count": 8,
   "id": "907ee985",
   "metadata": {
    "slideshow": {
     "slide_type": "fragment"
    }
   },
   "outputs": [
    {
     "name": "stdout",
     "output_type": "stream",
     "text": [
      "[[0. 1.]\n",
      " [1. 0.]\n",
      " [0. 1.]\n",
      " ...\n",
      " [1. 0.]\n",
      " [0. 1.]\n",
      " [1. 0.]]\n"
     ]
    }
   ],
   "source": [
    "y_val = df['Outcome']\n",
    "y_values = to_categorical(y_val)\n",
    "print(y_values)"
   ]
  },
  {
   "cell_type": "code",
   "execution_count": 9,
   "id": "7d363544",
   "metadata": {
    "slideshow": {
     "slide_type": "slide"
    }
   },
   "outputs": [],
   "source": [
    "x_val = df[[\"Pregnancies\",\"Glucose\",\"BloodPressure\",\"Insulin\",\n",
    "               \"BMI\",\"Age\"]]\n",
    "x_train, x_test, y_train,y_test = train_test_split(x_val,y_values,random_state = 5,test_size = 0.25)\n",
    "x_train = scale.fit_transform(x_train)\n",
    "x_test = scale.transform(x_test)"
   ]
  },
  {
   "cell_type": "code",
   "execution_count": 10,
   "id": "f714248e",
   "metadata": {
    "slideshow": {
     "slide_type": "subslide"
    }
   },
   "outputs": [
    {
     "name": "stdout",
     "output_type": "stream",
     "text": [
      "(576, 6)\n",
      "(192, 6)\n",
      "(576, 2)\n",
      "(192, 2)\n"
     ]
    }
   ],
   "source": [
    "print(x_train.shape)\n",
    "print(x_test.shape)\n",
    "print(y_train.shape)\n",
    "print(y_test.shape)"
   ]
  },
  {
   "cell_type": "code",
   "execution_count": 11,
   "id": "beb57a5d",
   "metadata": {
    "slideshow": {
     "slide_type": "slide"
    }
   },
   "outputs": [],
   "source": [
    "diabetes = Sequential()\n",
    "diabetes.add(Dense(6,input_dim=6,activation='relu'))\n",
    "diabetes.add(Dense(4,activation='relu'))\n",
    "diabetes.add(Dense(2,activation='softmax'))\n",
    "diabetes.compile(optimizer='adam',loss='categorical_crossentropy',metrics=['accuracy'])"
   ]
  },
  {
   "cell_type": "code",
   "execution_count": 12,
   "id": "8a309cd4",
   "metadata": {
    "slideshow": {
     "slide_type": "subslide"
    }
   },
   "outputs": [
    {
     "name": "stdout",
     "output_type": "stream",
     "text": [
      "Model: \"sequential\"\n",
      "_________________________________________________________________\n",
      "Layer (type)                 Output Shape              Param #   \n",
      "=================================================================\n",
      "dense (Dense)                (None, 6)                 42        \n",
      "_________________________________________________________________\n",
      "dense_1 (Dense)              (None, 4)                 28        \n",
      "_________________________________________________________________\n",
      "dense_2 (Dense)              (None, 2)                 10        \n",
      "=================================================================\n",
      "Total params: 80\n",
      "Trainable params: 80\n",
      "Non-trainable params: 0\n",
      "_________________________________________________________________\n"
     ]
    }
   ],
   "source": [
    "diabetes.summary()"
   ]
  },
  {
   "cell_type": "code",
   "execution_count": 13,
   "id": "fba504dc",
   "metadata": {
    "slideshow": {
     "slide_type": "slide"
    }
   },
   "outputs": [
    {
     "name": "stdout",
     "output_type": "stream",
     "text": [
      "Epoch 1/350\n",
      "18/18 [==============================] - 12s 29ms/step - loss: 0.7696 - accuracy: 0.3865 - val_loss: 0.7417 - val_accuracy: 0.4167\n",
      "Epoch 2/350\n",
      "18/18 [==============================] - 0s 2ms/step - loss: 0.7413 - accuracy: 0.4615 - val_loss: 0.7170 - val_accuracy: 0.5677\n",
      "Epoch 3/350\n",
      "18/18 [==============================] - 0s 2ms/step - loss: 0.7247 - accuracy: 0.5293 - val_loss: 0.7005 - val_accuracy: 0.5990\n",
      "Epoch 4/350\n",
      "18/18 [==============================] - 0s 2ms/step - loss: 0.7103 - accuracy: 0.5454 - val_loss: 0.6886 - val_accuracy: 0.6146\n",
      "Epoch 5/350\n",
      "18/18 [==============================] - 0s 2ms/step - loss: 0.7075 - accuracy: 0.5235 - val_loss: 0.6792 - val_accuracy: 0.6510\n",
      "Epoch 6/350\n",
      "18/18 [==============================] - 0s 2ms/step - loss: 0.6809 - accuracy: 0.6027 - val_loss: 0.6706 - val_accuracy: 0.6719\n",
      "Epoch 7/350\n",
      "18/18 [==============================] - 0s 2ms/step - loss: 0.6721 - accuracy: 0.6146 - val_loss: 0.6643 - val_accuracy: 0.6719\n",
      "Epoch 8/350\n",
      "18/18 [==============================] - 0s 2ms/step - loss: 0.6655 - accuracy: 0.6447 - val_loss: 0.6591 - val_accuracy: 0.6771\n",
      "Epoch 9/350\n",
      "18/18 [==============================] - 0s 2ms/step - loss: 0.6635 - accuracy: 0.6449 - val_loss: 0.6544 - val_accuracy: 0.6771\n",
      "Epoch 10/350\n",
      "18/18 [==============================] - 0s 2ms/step - loss: 0.6626 - accuracy: 0.6223 - val_loss: 0.6504 - val_accuracy: 0.6823\n",
      "Epoch 11/350\n",
      "18/18 [==============================] - 0s 2ms/step - loss: 0.6576 - accuracy: 0.6410 - val_loss: 0.6465 - val_accuracy: 0.6875\n",
      "Epoch 12/350\n",
      "18/18 [==============================] - 0s 2ms/step - loss: 0.6492 - accuracy: 0.6578 - val_loss: 0.6426 - val_accuracy: 0.6875\n",
      "Epoch 13/350\n",
      "18/18 [==============================] - 0s 2ms/step - loss: 0.6587 - accuracy: 0.6205 - val_loss: 0.6390 - val_accuracy: 0.6875\n",
      "Epoch 14/350\n",
      "18/18 [==============================] - 0s 2ms/step - loss: 0.6469 - accuracy: 0.6483 - val_loss: 0.6351 - val_accuracy: 0.6875\n",
      "Epoch 15/350\n",
      "18/18 [==============================] - 0s 2ms/step - loss: 0.6398 - accuracy: 0.6671 - val_loss: 0.6310 - val_accuracy: 0.6927\n",
      "Epoch 16/350\n",
      "18/18 [==============================] - 0s 2ms/step - loss: 0.6385 - accuracy: 0.6558 - val_loss: 0.6270 - val_accuracy: 0.6927\n",
      "Epoch 17/350\n",
      "18/18 [==============================] - 0s 2ms/step - loss: 0.6428 - accuracy: 0.6377 - val_loss: 0.6227 - val_accuracy: 0.6927\n",
      "Epoch 18/350\n",
      "18/18 [==============================] - 0s 2ms/step - loss: 0.6350 - accuracy: 0.6461 - val_loss: 0.6182 - val_accuracy: 0.6927\n",
      "Epoch 19/350\n",
      "18/18 [==============================] - 0s 2ms/step - loss: 0.6306 - accuracy: 0.6454 - val_loss: 0.6133 - val_accuracy: 0.6927\n",
      "Epoch 20/350\n",
      "18/18 [==============================] - 0s 2ms/step - loss: 0.6325 - accuracy: 0.6299 - val_loss: 0.6079 - val_accuracy: 0.6927\n",
      "Epoch 21/350\n",
      "18/18 [==============================] - 0s 2ms/step - loss: 0.6225 - accuracy: 0.6425 - val_loss: 0.6020 - val_accuracy: 0.6927\n",
      "Epoch 22/350\n",
      "18/18 [==============================] - 0s 2ms/step - loss: 0.6078 - accuracy: 0.6565 - val_loss: 0.5955 - val_accuracy: 0.6927\n",
      "Epoch 23/350\n",
      "18/18 [==============================] - 0s 2ms/step - loss: 0.6129 - accuracy: 0.6410 - val_loss: 0.5891 - val_accuracy: 0.6875\n",
      "Epoch 24/350\n",
      "18/18 [==============================] - 0s 2ms/step - loss: 0.5997 - accuracy: 0.6649 - val_loss: 0.5816 - val_accuracy: 0.7083\n",
      "Epoch 25/350\n",
      "18/18 [==============================] - 0s 2ms/step - loss: 0.6032 - accuracy: 0.6480 - val_loss: 0.5739 - val_accuracy: 0.7083\n",
      "Epoch 26/350\n",
      "18/18 [==============================] - 0s 2ms/step - loss: 0.5859 - accuracy: 0.6655 - val_loss: 0.5661 - val_accuracy: 0.7135\n",
      "Epoch 27/350\n",
      "18/18 [==============================] - 0s 2ms/step - loss: 0.5794 - accuracy: 0.6632 - val_loss: 0.5577 - val_accuracy: 0.7292\n",
      "Epoch 28/350\n",
      "18/18 [==============================] - 0s 2ms/step - loss: 0.5726 - accuracy: 0.6712 - val_loss: 0.5489 - val_accuracy: 0.7135\n",
      "Epoch 29/350\n",
      "18/18 [==============================] - 0s 2ms/step - loss: 0.5732 - accuracy: 0.6778 - val_loss: 0.5409 - val_accuracy: 0.7344\n",
      "Epoch 30/350\n",
      "18/18 [==============================] - 0s 2ms/step - loss: 0.5491 - accuracy: 0.7133 - val_loss: 0.5330 - val_accuracy: 0.7292\n",
      "Epoch 31/350\n",
      "18/18 [==============================] - 0s 2ms/step - loss: 0.5711 - accuracy: 0.6819 - val_loss: 0.5270 - val_accuracy: 0.7396\n",
      "Epoch 32/350\n",
      "18/18 [==============================] - 0s 2ms/step - loss: 0.5363 - accuracy: 0.7047 - val_loss: 0.5198 - val_accuracy: 0.7552\n",
      "Epoch 33/350\n",
      "18/18 [==============================] - 0s 2ms/step - loss: 0.5312 - accuracy: 0.7190 - val_loss: 0.5149 - val_accuracy: 0.7552\n",
      "Epoch 34/350\n",
      "18/18 [==============================] - 0s 2ms/step - loss: 0.5380 - accuracy: 0.7099 - val_loss: 0.5098 - val_accuracy: 0.7552\n",
      "Epoch 35/350\n",
      "18/18 [==============================] - 0s 2ms/step - loss: 0.5295 - accuracy: 0.6907 - val_loss: 0.5054 - val_accuracy: 0.7656\n",
      "Epoch 36/350\n",
      "18/18 [==============================] - 0s 2ms/step - loss: 0.5179 - accuracy: 0.7208 - val_loss: 0.5028 - val_accuracy: 0.7656\n",
      "Epoch 37/350\n",
      "18/18 [==============================] - 0s 2ms/step - loss: 0.5168 - accuracy: 0.7145 - val_loss: 0.4992 - val_accuracy: 0.7656\n",
      "Epoch 38/350\n",
      "18/18 [==============================] - 0s 2ms/step - loss: 0.5184 - accuracy: 0.7221 - val_loss: 0.4952 - val_accuracy: 0.7604\n",
      "Epoch 39/350\n",
      "18/18 [==============================] - 0s 2ms/step - loss: 0.5156 - accuracy: 0.7211 - val_loss: 0.4948 - val_accuracy: 0.7500\n",
      "Epoch 40/350\n",
      "18/18 [==============================] - 0s 2ms/step - loss: 0.5151 - accuracy: 0.7279 - val_loss: 0.4915 - val_accuracy: 0.7448\n",
      "Epoch 41/350\n",
      "18/18 [==============================] - 0s 2ms/step - loss: 0.5116 - accuracy: 0.7158 - val_loss: 0.4891 - val_accuracy: 0.7448\n",
      "Epoch 42/350\n",
      "18/18 [==============================] - 0s 2ms/step - loss: 0.4773 - accuracy: 0.7567 - val_loss: 0.4881 - val_accuracy: 0.7500\n",
      "Epoch 43/350\n",
      "18/18 [==============================] - 0s 2ms/step - loss: 0.4929 - accuracy: 0.7440 - val_loss: 0.4872 - val_accuracy: 0.7500\n",
      "Epoch 44/350\n",
      "18/18 [==============================] - 0s 2ms/step - loss: 0.5129 - accuracy: 0.7445 - val_loss: 0.4867 - val_accuracy: 0.7604\n",
      "Epoch 45/350\n",
      "18/18 [==============================] - 0s 2ms/step - loss: 0.4779 - accuracy: 0.7480 - val_loss: 0.4838 - val_accuracy: 0.7708\n",
      "Epoch 46/350\n",
      "18/18 [==============================] - 0s 2ms/step - loss: 0.5121 - accuracy: 0.7410 - val_loss: 0.4843 - val_accuracy: 0.7708\n",
      "Epoch 47/350\n",
      "18/18 [==============================] - 0s 2ms/step - loss: 0.4734 - accuracy: 0.7625 - val_loss: 0.4835 - val_accuracy: 0.7552\n",
      "Epoch 48/350\n",
      "18/18 [==============================] - 0s 2ms/step - loss: 0.4676 - accuracy: 0.7706 - val_loss: 0.4822 - val_accuracy: 0.7604\n",
      "Epoch 49/350\n",
      "18/18 [==============================] - 0s 2ms/step - loss: 0.4766 - accuracy: 0.7555 - val_loss: 0.4826 - val_accuracy: 0.7552\n",
      "Epoch 50/350\n",
      "18/18 [==============================] - 0s 2ms/step - loss: 0.4917 - accuracy: 0.7567 - val_loss: 0.4813 - val_accuracy: 0.7604\n",
      "Epoch 51/350\n",
      "18/18 [==============================] - 0s 2ms/step - loss: 0.4983 - accuracy: 0.7406 - val_loss: 0.4810 - val_accuracy: 0.7656\n",
      "Epoch 52/350\n",
      "18/18 [==============================] - 0s 2ms/step - loss: 0.4843 - accuracy: 0.7561 - val_loss: 0.4777 - val_accuracy: 0.7604\n",
      "Epoch 53/350\n",
      "18/18 [==============================] - 0s 2ms/step - loss: 0.4839 - accuracy: 0.7513 - val_loss: 0.4793 - val_accuracy: 0.7656\n",
      "Epoch 54/350\n",
      "18/18 [==============================] - 0s 2ms/step - loss: 0.4737 - accuracy: 0.7650 - val_loss: 0.4794 - val_accuracy: 0.7708\n",
      "Epoch 55/350\n",
      "18/18 [==============================] - 0s 2ms/step - loss: 0.4647 - accuracy: 0.7786 - val_loss: 0.4788 - val_accuracy: 0.7708\n",
      "Epoch 56/350\n",
      "18/18 [==============================] - 0s 2ms/step - loss: 0.4630 - accuracy: 0.7724 - val_loss: 0.4786 - val_accuracy: 0.7708\n",
      "Epoch 57/350\n",
      "18/18 [==============================] - 0s 2ms/step - loss: 0.4673 - accuracy: 0.7665 - val_loss: 0.4770 - val_accuracy: 0.7708\n",
      "Epoch 58/350\n",
      "18/18 [==============================] - 0s 2ms/step - loss: 0.4540 - accuracy: 0.7762 - val_loss: 0.4772 - val_accuracy: 0.7708\n"
     ]
    },
    {
     "name": "stdout",
     "output_type": "stream",
     "text": [
      "Epoch 59/350\n",
      "18/18 [==============================] - 0s 2ms/step - loss: 0.4594 - accuracy: 0.7736 - val_loss: 0.4775 - val_accuracy: 0.7708\n",
      "Epoch 60/350\n",
      "18/18 [==============================] - 0s 2ms/step - loss: 0.4966 - accuracy: 0.7339 - val_loss: 0.4771 - val_accuracy: 0.7708\n",
      "Epoch 61/350\n",
      "18/18 [==============================] - 0s 2ms/step - loss: 0.4236 - accuracy: 0.8149 - val_loss: 0.4768 - val_accuracy: 0.7760\n",
      "Epoch 62/350\n",
      "18/18 [==============================] - 0s 2ms/step - loss: 0.4834 - accuracy: 0.7524 - val_loss: 0.4755 - val_accuracy: 0.7760\n",
      "Epoch 63/350\n",
      "18/18 [==============================] - 0s 2ms/step - loss: 0.4725 - accuracy: 0.7569 - val_loss: 0.4760 - val_accuracy: 0.7708\n",
      "Epoch 64/350\n",
      "18/18 [==============================] - 0s 2ms/step - loss: 0.4220 - accuracy: 0.7822 - val_loss: 0.4756 - val_accuracy: 0.7604\n",
      "Epoch 65/350\n",
      "18/18 [==============================] - 0s 2ms/step - loss: 0.4616 - accuracy: 0.7763 - val_loss: 0.4738 - val_accuracy: 0.7656\n",
      "Epoch 66/350\n",
      "18/18 [==============================] - 0s 2ms/step - loss: 0.4664 - accuracy: 0.7740 - val_loss: 0.4744 - val_accuracy: 0.7656\n",
      "Epoch 67/350\n",
      "18/18 [==============================] - 0s 2ms/step - loss: 0.4542 - accuracy: 0.7698 - val_loss: 0.4736 - val_accuracy: 0.7656\n",
      "Epoch 68/350\n",
      "18/18 [==============================] - 0s 2ms/step - loss: 0.4508 - accuracy: 0.7736 - val_loss: 0.4722 - val_accuracy: 0.7656\n",
      "Epoch 69/350\n",
      "18/18 [==============================] - 0s 2ms/step - loss: 0.4674 - accuracy: 0.7769 - val_loss: 0.4736 - val_accuracy: 0.7656\n",
      "Epoch 70/350\n",
      "18/18 [==============================] - 0s 2ms/step - loss: 0.4430 - accuracy: 0.7789 - val_loss: 0.4727 - val_accuracy: 0.7656\n",
      "Epoch 71/350\n",
      "18/18 [==============================] - 0s 2ms/step - loss: 0.4695 - accuracy: 0.7592 - val_loss: 0.4740 - val_accuracy: 0.7656\n",
      "Epoch 72/350\n",
      "18/18 [==============================] - 0s 2ms/step - loss: 0.4736 - accuracy: 0.7658 - val_loss: 0.4736 - val_accuracy: 0.7656\n",
      "Epoch 73/350\n",
      "18/18 [==============================] - 0s 2ms/step - loss: 0.4741 - accuracy: 0.7584 - val_loss: 0.4720 - val_accuracy: 0.7656\n",
      "Epoch 74/350\n",
      "18/18 [==============================] - 0s 2ms/step - loss: 0.4294 - accuracy: 0.7956 - val_loss: 0.4705 - val_accuracy: 0.7656\n",
      "Epoch 75/350\n",
      "18/18 [==============================] - 0s 2ms/step - loss: 0.4285 - accuracy: 0.8007 - val_loss: 0.4721 - val_accuracy: 0.7656\n",
      "Epoch 76/350\n",
      "18/18 [==============================] - 0s 2ms/step - loss: 0.4583 - accuracy: 0.7778 - val_loss: 0.4720 - val_accuracy: 0.7656\n",
      "Epoch 77/350\n",
      "18/18 [==============================] - 0s 2ms/step - loss: 0.4607 - accuracy: 0.7825 - val_loss: 0.4713 - val_accuracy: 0.7656\n",
      "Epoch 78/350\n",
      "18/18 [==============================] - 0s 2ms/step - loss: 0.4178 - accuracy: 0.7928 - val_loss: 0.4692 - val_accuracy: 0.7656\n",
      "Epoch 79/350\n",
      "18/18 [==============================] - 0s 2ms/step - loss: 0.4177 - accuracy: 0.8095 - val_loss: 0.4706 - val_accuracy: 0.7656\n",
      "Epoch 80/350\n",
      "18/18 [==============================] - 0s 2ms/step - loss: 0.4804 - accuracy: 0.7459 - val_loss: 0.4696 - val_accuracy: 0.7656\n",
      "Epoch 81/350\n",
      "18/18 [==============================] - 0s 2ms/step - loss: 0.4557 - accuracy: 0.7780 - val_loss: 0.4700 - val_accuracy: 0.7708\n",
      "Epoch 82/350\n",
      "18/18 [==============================] - 0s 2ms/step - loss: 0.4349 - accuracy: 0.7830 - val_loss: 0.4689 - val_accuracy: 0.7708\n",
      "Epoch 83/350\n",
      "18/18 [==============================] - 0s 2ms/step - loss: 0.4570 - accuracy: 0.7856 - val_loss: 0.4687 - val_accuracy: 0.7708\n",
      "Epoch 84/350\n",
      "18/18 [==============================] - 0s 2ms/step - loss: 0.4343 - accuracy: 0.7860 - val_loss: 0.4684 - val_accuracy: 0.7708\n",
      "Epoch 85/350\n",
      "18/18 [==============================] - 0s 2ms/step - loss: 0.4338 - accuracy: 0.7849 - val_loss: 0.4686 - val_accuracy: 0.7708\n",
      "Epoch 86/350\n",
      "18/18 [==============================] - 0s 2ms/step - loss: 0.4337 - accuracy: 0.7909 - val_loss: 0.4697 - val_accuracy: 0.7708\n",
      "Epoch 87/350\n",
      "18/18 [==============================] - 0s 2ms/step - loss: 0.4700 - accuracy: 0.7689 - val_loss: 0.4686 - val_accuracy: 0.7708\n",
      "Epoch 88/350\n",
      "18/18 [==============================] - 0s 2ms/step - loss: 0.4765 - accuracy: 0.7723 - val_loss: 0.4664 - val_accuracy: 0.7708\n",
      "Epoch 89/350\n",
      "18/18 [==============================] - 0s 2ms/step - loss: 0.4377 - accuracy: 0.7845 - val_loss: 0.4677 - val_accuracy: 0.7708\n",
      "Epoch 90/350\n",
      "18/18 [==============================] - 0s 2ms/step - loss: 0.4243 - accuracy: 0.7793 - val_loss: 0.4676 - val_accuracy: 0.7760\n",
      "Epoch 91/350\n",
      "18/18 [==============================] - 0s 2ms/step - loss: 0.4588 - accuracy: 0.7873 - val_loss: 0.4671 - val_accuracy: 0.7760\n",
      "Epoch 92/350\n",
      "18/18 [==============================] - 0s 2ms/step - loss: 0.4464 - accuracy: 0.7757 - val_loss: 0.4663 - val_accuracy: 0.7760\n",
      "Epoch 93/350\n",
      "18/18 [==============================] - 0s 2ms/step - loss: 0.4845 - accuracy: 0.7686 - val_loss: 0.4678 - val_accuracy: 0.7760\n",
      "Epoch 94/350\n",
      "18/18 [==============================] - 0s 2ms/step - loss: 0.4434 - accuracy: 0.7703 - val_loss: 0.4656 - val_accuracy: 0.7812\n",
      "Epoch 95/350\n",
      "18/18 [==============================] - 0s 2ms/step - loss: 0.4818 - accuracy: 0.7639 - val_loss: 0.4642 - val_accuracy: 0.7812\n",
      "Epoch 96/350\n",
      "18/18 [==============================] - 0s 2ms/step - loss: 0.4481 - accuracy: 0.7726 - val_loss: 0.4675 - val_accuracy: 0.7760\n",
      "Epoch 97/350\n",
      "18/18 [==============================] - 0s 2ms/step - loss: 0.4379 - accuracy: 0.7931 - val_loss: 0.4674 - val_accuracy: 0.7760\n",
      "Epoch 98/350\n",
      "18/18 [==============================] - 0s 2ms/step - loss: 0.4258 - accuracy: 0.7997 - val_loss: 0.4676 - val_accuracy: 0.7812\n",
      "Epoch 99/350\n",
      "18/18 [==============================] - 0s 2ms/step - loss: 0.4626 - accuracy: 0.7798 - val_loss: 0.4655 - val_accuracy: 0.7812\n",
      "Epoch 100/350\n",
      "18/18 [==============================] - 0s 2ms/step - loss: 0.4500 - accuracy: 0.7791 - val_loss: 0.4659 - val_accuracy: 0.7812\n",
      "Epoch 101/350\n",
      "18/18 [==============================] - 0s 2ms/step - loss: 0.4466 - accuracy: 0.7860 - val_loss: 0.4655 - val_accuracy: 0.7812\n",
      "Epoch 102/350\n",
      "18/18 [==============================] - 0s 2ms/step - loss: 0.4271 - accuracy: 0.7849 - val_loss: 0.4653 - val_accuracy: 0.7812\n",
      "Epoch 103/350\n",
      "18/18 [==============================] - 0s 2ms/step - loss: 0.4591 - accuracy: 0.7790 - val_loss: 0.4660 - val_accuracy: 0.7812\n",
      "Epoch 104/350\n",
      "18/18 [==============================] - 0s 2ms/step - loss: 0.4484 - accuracy: 0.7783 - val_loss: 0.4665 - val_accuracy: 0.7812\n",
      "Epoch 105/350\n",
      "18/18 [==============================] - 0s 2ms/step - loss: 0.4613 - accuracy: 0.7718 - val_loss: 0.4657 - val_accuracy: 0.7812\n",
      "Epoch 106/350\n",
      "18/18 [==============================] - 0s 2ms/step - loss: 0.4740 - accuracy: 0.7533 - val_loss: 0.4648 - val_accuracy: 0.7812\n",
      "Epoch 107/350\n",
      "18/18 [==============================] - 0s 2ms/step - loss: 0.4589 - accuracy: 0.7898 - val_loss: 0.4647 - val_accuracy: 0.7865\n",
      "Epoch 108/350\n",
      "18/18 [==============================] - 0s 2ms/step - loss: 0.4374 - accuracy: 0.7894 - val_loss: 0.4658 - val_accuracy: 0.7812\n",
      "Epoch 109/350\n",
      "18/18 [==============================] - 0s 2ms/step - loss: 0.4388 - accuracy: 0.7996 - val_loss: 0.4658 - val_accuracy: 0.7812\n",
      "Epoch 110/350\n",
      "18/18 [==============================] - 0s 2ms/step - loss: 0.4502 - accuracy: 0.7771 - val_loss: 0.4650 - val_accuracy: 0.7865\n",
      "Epoch 111/350\n",
      "18/18 [==============================] - 0s 2ms/step - loss: 0.4122 - accuracy: 0.8082 - val_loss: 0.4645 - val_accuracy: 0.7865\n",
      "Epoch 112/350\n",
      "18/18 [==============================] - 0s 2ms/step - loss: 0.4575 - accuracy: 0.7681 - val_loss: 0.4655 - val_accuracy: 0.7865\n",
      "Epoch 113/350\n",
      "18/18 [==============================] - 0s 2ms/step - loss: 0.4376 - accuracy: 0.7877 - val_loss: 0.4665 - val_accuracy: 0.7812\n",
      "Epoch 114/350\n",
      "18/18 [==============================] - 0s 3ms/step - loss: 0.4592 - accuracy: 0.7789 - val_loss: 0.4662 - val_accuracy: 0.7865\n",
      "Epoch 115/350\n",
      "18/18 [==============================] - 0s 2ms/step - loss: 0.4130 - accuracy: 0.8034 - val_loss: 0.4653 - val_accuracy: 0.7865\n",
      "Epoch 116/350\n"
     ]
    },
    {
     "name": "stdout",
     "output_type": "stream",
     "text": [
      "18/18 [==============================] - 0s 2ms/step - loss: 0.4497 - accuracy: 0.7730 - val_loss: 0.4662 - val_accuracy: 0.7865\n",
      "Epoch 117/350\n",
      "18/18 [==============================] - 0s 2ms/step - loss: 0.4561 - accuracy: 0.7725 - val_loss: 0.4666 - val_accuracy: 0.7865\n",
      "Epoch 118/350\n",
      "18/18 [==============================] - 0s 2ms/step - loss: 0.4640 - accuracy: 0.7804 - val_loss: 0.4653 - val_accuracy: 0.7865\n",
      "Epoch 119/350\n",
      "18/18 [==============================] - 0s 2ms/step - loss: 0.4851 - accuracy: 0.7475 - val_loss: 0.4652 - val_accuracy: 0.7865\n",
      "Epoch 120/350\n",
      "18/18 [==============================] - 0s 2ms/step - loss: 0.4706 - accuracy: 0.7638 - val_loss: 0.4657 - val_accuracy: 0.7865\n",
      "Epoch 121/350\n",
      "18/18 [==============================] - 0s 2ms/step - loss: 0.4542 - accuracy: 0.7723 - val_loss: 0.4672 - val_accuracy: 0.7865\n",
      "Epoch 122/350\n",
      "18/18 [==============================] - 0s 2ms/step - loss: 0.4437 - accuracy: 0.7906 - val_loss: 0.4672 - val_accuracy: 0.7865\n",
      "Epoch 123/350\n",
      "18/18 [==============================] - 0s 2ms/step - loss: 0.4621 - accuracy: 0.7724 - val_loss: 0.4649 - val_accuracy: 0.7865\n",
      "Epoch 124/350\n",
      "18/18 [==============================] - 0s 2ms/step - loss: 0.4807 - accuracy: 0.7668 - val_loss: 0.4651 - val_accuracy: 0.7865\n",
      "Epoch 125/350\n",
      "18/18 [==============================] - 0s 2ms/step - loss: 0.4192 - accuracy: 0.7990 - val_loss: 0.4668 - val_accuracy: 0.7865\n",
      "Epoch 126/350\n",
      "18/18 [==============================] - 0s 2ms/step - loss: 0.4496 - accuracy: 0.7926 - val_loss: 0.4666 - val_accuracy: 0.7865\n",
      "Epoch 127/350\n",
      "18/18 [==============================] - 0s 2ms/step - loss: 0.4500 - accuracy: 0.8001 - val_loss: 0.4671 - val_accuracy: 0.7865\n",
      "Epoch 128/350\n",
      "18/18 [==============================] - 0s 3ms/step - loss: 0.4521 - accuracy: 0.7843 - val_loss: 0.4663 - val_accuracy: 0.7865\n",
      "Epoch 129/350\n",
      "18/18 [==============================] - 0s 2ms/step - loss: 0.4588 - accuracy: 0.7815 - val_loss: 0.4666 - val_accuracy: 0.7865\n",
      "Epoch 130/350\n",
      "18/18 [==============================] - 0s 2ms/step - loss: 0.4650 - accuracy: 0.7749 - val_loss: 0.4667 - val_accuracy: 0.7865\n",
      "Epoch 131/350\n",
      "18/18 [==============================] - 0s 2ms/step - loss: 0.4227 - accuracy: 0.8094 - val_loss: 0.4653 - val_accuracy: 0.7865\n",
      "Epoch 132/350\n",
      "18/18 [==============================] - 0s 2ms/step - loss: 0.4367 - accuracy: 0.8009 - val_loss: 0.4667 - val_accuracy: 0.7865\n",
      "Epoch 133/350\n",
      "18/18 [==============================] - 0s 2ms/step - loss: 0.4702 - accuracy: 0.7808 - val_loss: 0.4656 - val_accuracy: 0.7865\n",
      "Epoch 134/350\n",
      "18/18 [==============================] - 0s 2ms/step - loss: 0.4701 - accuracy: 0.7683 - val_loss: 0.4668 - val_accuracy: 0.7865\n",
      "Epoch 135/350\n",
      "18/18 [==============================] - 0s 2ms/step - loss: 0.4765 - accuracy: 0.7655 - val_loss: 0.4674 - val_accuracy: 0.7865\n",
      "Epoch 136/350\n",
      "18/18 [==============================] - 0s 2ms/step - loss: 0.4570 - accuracy: 0.7740 - val_loss: 0.4668 - val_accuracy: 0.7865\n",
      "Epoch 137/350\n",
      "18/18 [==============================] - 0s 2ms/step - loss: 0.4473 - accuracy: 0.7635 - val_loss: 0.4656 - val_accuracy: 0.7865\n",
      "Epoch 138/350\n",
      "18/18 [==============================] - 0s 2ms/step - loss: 0.4629 - accuracy: 0.7639 - val_loss: 0.4667 - val_accuracy: 0.7865\n",
      "Epoch 139/350\n",
      "18/18 [==============================] - 0s 2ms/step - loss: 0.4477 - accuracy: 0.7933 - val_loss: 0.4679 - val_accuracy: 0.7865\n",
      "Epoch 140/350\n",
      "18/18 [==============================] - 0s 2ms/step - loss: 0.4553 - accuracy: 0.7861 - val_loss: 0.4655 - val_accuracy: 0.7865\n",
      "Epoch 141/350\n",
      "18/18 [==============================] - 0s 2ms/step - loss: 0.4584 - accuracy: 0.7774 - val_loss: 0.4662 - val_accuracy: 0.7865\n",
      "Epoch 142/350\n",
      "18/18 [==============================] - 0s 2ms/step - loss: 0.4670 - accuracy: 0.7681 - val_loss: 0.4672 - val_accuracy: 0.7865\n",
      "Epoch 143/350\n",
      "18/18 [==============================] - 0s 2ms/step - loss: 0.4408 - accuracy: 0.7947 - val_loss: 0.4653 - val_accuracy: 0.7865\n",
      "Epoch 144/350\n",
      "18/18 [==============================] - 0s 2ms/step - loss: 0.4024 - accuracy: 0.8261 - val_loss: 0.4668 - val_accuracy: 0.7865\n",
      "Epoch 145/350\n",
      "18/18 [==============================] - 0s 2ms/step - loss: 0.4369 - accuracy: 0.7918 - val_loss: 0.4696 - val_accuracy: 0.7865\n",
      "Epoch 146/350\n",
      "18/18 [==============================] - 0s 2ms/step - loss: 0.4854 - accuracy: 0.7552 - val_loss: 0.4673 - val_accuracy: 0.7865\n",
      "Epoch 147/350\n",
      "18/18 [==============================] - 0s 2ms/step - loss: 0.4423 - accuracy: 0.7936 - val_loss: 0.4662 - val_accuracy: 0.7865\n",
      "Epoch 148/350\n",
      "18/18 [==============================] - 0s 2ms/step - loss: 0.4556 - accuracy: 0.7773 - val_loss: 0.4675 - val_accuracy: 0.7865\n",
      "Epoch 149/350\n",
      "18/18 [==============================] - 0s 2ms/step - loss: 0.4633 - accuracy: 0.7751 - val_loss: 0.4676 - val_accuracy: 0.7865\n",
      "Epoch 150/350\n",
      "18/18 [==============================] - 0s 2ms/step - loss: 0.3996 - accuracy: 0.8121 - val_loss: 0.4664 - val_accuracy: 0.7865\n",
      "Epoch 151/350\n",
      "18/18 [==============================] - 0s 2ms/step - loss: 0.4243 - accuracy: 0.7927 - val_loss: 0.4664 - val_accuracy: 0.7865\n",
      "Epoch 152/350\n",
      "18/18 [==============================] - 0s 2ms/step - loss: 0.4226 - accuracy: 0.7900 - val_loss: 0.4663 - val_accuracy: 0.7865\n",
      "Epoch 153/350\n",
      "18/18 [==============================] - 0s 2ms/step - loss: 0.4406 - accuracy: 0.7869 - val_loss: 0.4677 - val_accuracy: 0.7865\n",
      "Epoch 154/350\n",
      "18/18 [==============================] - 0s 2ms/step - loss: 0.4909 - accuracy: 0.7579 - val_loss: 0.4685 - val_accuracy: 0.7865\n",
      "Epoch 155/350\n",
      "18/18 [==============================] - 0s 2ms/step - loss: 0.4157 - accuracy: 0.8125 - val_loss: 0.4664 - val_accuracy: 0.7865\n",
      "Epoch 156/350\n",
      "18/18 [==============================] - 0s 2ms/step - loss: 0.4757 - accuracy: 0.7783 - val_loss: 0.4661 - val_accuracy: 0.7865\n",
      "Epoch 157/350\n",
      "18/18 [==============================] - 0s 2ms/step - loss: 0.4427 - accuracy: 0.7895 - val_loss: 0.4677 - val_accuracy: 0.7865\n",
      "Epoch 158/350\n",
      "18/18 [==============================] - 0s 2ms/step - loss: 0.4318 - accuracy: 0.7812 - val_loss: 0.4690 - val_accuracy: 0.7865\n",
      "Epoch 159/350\n",
      "18/18 [==============================] - 0s 2ms/step - loss: 0.4748 - accuracy: 0.7567 - val_loss: 0.4660 - val_accuracy: 0.7865\n",
      "Epoch 160/350\n",
      "18/18 [==============================] - 0s 2ms/step - loss: 0.4371 - accuracy: 0.7757 - val_loss: 0.4662 - val_accuracy: 0.7865\n",
      "Epoch 161/350\n",
      "18/18 [==============================] - 0s 2ms/step - loss: 0.3802 - accuracy: 0.8397 - val_loss: 0.4670 - val_accuracy: 0.7865\n",
      "Epoch 162/350\n",
      "18/18 [==============================] - 0s 2ms/step - loss: 0.4704 - accuracy: 0.7577 - val_loss: 0.4665 - val_accuracy: 0.7865\n",
      "Epoch 163/350\n",
      "18/18 [==============================] - 0s 2ms/step - loss: 0.4276 - accuracy: 0.7983 - val_loss: 0.4667 - val_accuracy: 0.7865\n",
      "Epoch 164/350\n",
      "18/18 [==============================] - 0s 2ms/step - loss: 0.4361 - accuracy: 0.7940 - val_loss: 0.4657 - val_accuracy: 0.7865\n",
      "Epoch 165/350\n",
      "18/18 [==============================] - 0s 2ms/step - loss: 0.4456 - accuracy: 0.7869 - val_loss: 0.4670 - val_accuracy: 0.7865\n",
      "Epoch 166/350\n",
      "18/18 [==============================] - 0s 2ms/step - loss: 0.4238 - accuracy: 0.8011 - val_loss: 0.4682 - val_accuracy: 0.7865\n",
      "Epoch 167/350\n",
      "18/18 [==============================] - 0s 2ms/step - loss: 0.4308 - accuracy: 0.7882 - val_loss: 0.4679 - val_accuracy: 0.7865\n",
      "Epoch 168/350\n",
      "18/18 [==============================] - 0s 2ms/step - loss: 0.4225 - accuracy: 0.8048 - val_loss: 0.4660 - val_accuracy: 0.7865\n",
      "Epoch 169/350\n",
      "18/18 [==============================] - 0s 2ms/step - loss: 0.4546 - accuracy: 0.7802 - val_loss: 0.4679 - val_accuracy: 0.7865\n",
      "Epoch 170/350\n",
      "18/18 [==============================] - 0s 2ms/step - loss: 0.4588 - accuracy: 0.7877 - val_loss: 0.4660 - val_accuracy: 0.7865\n",
      "Epoch 171/350\n",
      "18/18 [==============================] - 0s 2ms/step - loss: 0.4472 - accuracy: 0.7744 - val_loss: 0.4674 - val_accuracy: 0.7865\n",
      "Epoch 172/350\n",
      "18/18 [==============================] - 0s 2ms/step - loss: 0.4402 - accuracy: 0.7875 - val_loss: 0.4658 - val_accuracy: 0.7865\n",
      "Epoch 173/350\n"
     ]
    },
    {
     "name": "stdout",
     "output_type": "stream",
     "text": [
      "18/18 [==============================] - 0s 2ms/step - loss: 0.4592 - accuracy: 0.7807 - val_loss: 0.4656 - val_accuracy: 0.7865\n",
      "Epoch 174/350\n",
      "18/18 [==============================] - 0s 2ms/step - loss: 0.4319 - accuracy: 0.7936 - val_loss: 0.4662 - val_accuracy: 0.7865\n",
      "Epoch 175/350\n",
      "18/18 [==============================] - 0s 2ms/step - loss: 0.4269 - accuracy: 0.8064 - val_loss: 0.4659 - val_accuracy: 0.7865\n",
      "Epoch 176/350\n",
      "18/18 [==============================] - 0s 2ms/step - loss: 0.4464 - accuracy: 0.7799 - val_loss: 0.4674 - val_accuracy: 0.7865\n",
      "Epoch 177/350\n",
      "18/18 [==============================] - 0s 2ms/step - loss: 0.4405 - accuracy: 0.7711 - val_loss: 0.4681 - val_accuracy: 0.7865\n",
      "Epoch 178/350\n",
      "18/18 [==============================] - 0s 2ms/step - loss: 0.4729 - accuracy: 0.7673 - val_loss: 0.4651 - val_accuracy: 0.7865\n",
      "Epoch 179/350\n",
      "18/18 [==============================] - 0s 2ms/step - loss: 0.4214 - accuracy: 0.8007 - val_loss: 0.4656 - val_accuracy: 0.7865\n",
      "Epoch 180/350\n",
      "18/18 [==============================] - 0s 2ms/step - loss: 0.4423 - accuracy: 0.7926 - val_loss: 0.4657 - val_accuracy: 0.7865\n",
      "Epoch 181/350\n",
      "18/18 [==============================] - 0s 2ms/step - loss: 0.4557 - accuracy: 0.7677 - val_loss: 0.4669 - val_accuracy: 0.7865\n",
      "Epoch 182/350\n",
      "18/18 [==============================] - 0s 2ms/step - loss: 0.4462 - accuracy: 0.7822 - val_loss: 0.4670 - val_accuracy: 0.7865\n",
      "Epoch 183/350\n",
      "18/18 [==============================] - 0s 2ms/step - loss: 0.4495 - accuracy: 0.7841 - val_loss: 0.4653 - val_accuracy: 0.7865\n",
      "Epoch 184/350\n",
      "18/18 [==============================] - 0s 2ms/step - loss: 0.4353 - accuracy: 0.7776 - val_loss: 0.4652 - val_accuracy: 0.7865\n",
      "Epoch 185/350\n",
      "18/18 [==============================] - 0s 2ms/step - loss: 0.4524 - accuracy: 0.7746 - val_loss: 0.4677 - val_accuracy: 0.7865\n",
      "Epoch 186/350\n",
      "18/18 [==============================] - 0s 2ms/step - loss: 0.4412 - accuracy: 0.7739 - val_loss: 0.4638 - val_accuracy: 0.7865\n",
      "Epoch 187/350\n",
      "18/18 [==============================] - 0s 2ms/step - loss: 0.4642 - accuracy: 0.7798 - val_loss: 0.4653 - val_accuracy: 0.7865\n",
      "Epoch 188/350\n",
      "18/18 [==============================] - 0s 2ms/step - loss: 0.4553 - accuracy: 0.7906 - val_loss: 0.4648 - val_accuracy: 0.7865\n",
      "Epoch 189/350\n",
      "18/18 [==============================] - 0s 2ms/step - loss: 0.4474 - accuracy: 0.7843 - val_loss: 0.4655 - val_accuracy: 0.7865\n",
      "Epoch 190/350\n",
      "18/18 [==============================] - 0s 2ms/step - loss: 0.4458 - accuracy: 0.7779 - val_loss: 0.4652 - val_accuracy: 0.7865\n",
      "Epoch 191/350\n",
      "18/18 [==============================] - 0s 2ms/step - loss: 0.4580 - accuracy: 0.7666 - val_loss: 0.4660 - val_accuracy: 0.7865\n",
      "Epoch 192/350\n",
      "18/18 [==============================] - 0s 2ms/step - loss: 0.4323 - accuracy: 0.7919 - val_loss: 0.4651 - val_accuracy: 0.7865\n",
      "Epoch 193/350\n",
      "18/18 [==============================] - 0s 2ms/step - loss: 0.4485 - accuracy: 0.7839 - val_loss: 0.4665 - val_accuracy: 0.7865\n",
      "Epoch 194/350\n",
      "18/18 [==============================] - 0s 2ms/step - loss: 0.4568 - accuracy: 0.7762 - val_loss: 0.4657 - val_accuracy: 0.7865\n",
      "Epoch 195/350\n",
      "18/18 [==============================] - 0s 2ms/step - loss: 0.4267 - accuracy: 0.7860 - val_loss: 0.4651 - val_accuracy: 0.7865\n",
      "Epoch 196/350\n",
      "18/18 [==============================] - 0s 2ms/step - loss: 0.4616 - accuracy: 0.7814 - val_loss: 0.4647 - val_accuracy: 0.7865\n",
      "Epoch 197/350\n",
      "18/18 [==============================] - 0s 2ms/step - loss: 0.4097 - accuracy: 0.8173 - val_loss: 0.4670 - val_accuracy: 0.7865\n",
      "Epoch 198/350\n",
      "18/18 [==============================] - 0s 2ms/step - loss: 0.4617 - accuracy: 0.7652 - val_loss: 0.4655 - val_accuracy: 0.7865\n",
      "Epoch 199/350\n",
      "18/18 [==============================] - 0s 2ms/step - loss: 0.4650 - accuracy: 0.7712 - val_loss: 0.4648 - val_accuracy: 0.7865\n",
      "Epoch 200/350\n",
      "18/18 [==============================] - 0s 2ms/step - loss: 0.4549 - accuracy: 0.7808 - val_loss: 0.4647 - val_accuracy: 0.7865\n",
      "Epoch 201/350\n",
      "18/18 [==============================] - 0s 2ms/step - loss: 0.4258 - accuracy: 0.7972 - val_loss: 0.4649 - val_accuracy: 0.7865\n",
      "Epoch 202/350\n",
      "18/18 [==============================] - 0s 2ms/step - loss: 0.3906 - accuracy: 0.8069 - val_loss: 0.4649 - val_accuracy: 0.7865\n",
      "Epoch 203/350\n",
      "18/18 [==============================] - 0s 2ms/step - loss: 0.4311 - accuracy: 0.7811 - val_loss: 0.4645 - val_accuracy: 0.7865\n",
      "Epoch 204/350\n",
      "18/18 [==============================] - 0s 2ms/step - loss: 0.4757 - accuracy: 0.7620 - val_loss: 0.4661 - val_accuracy: 0.7812\n",
      "Epoch 205/350\n",
      "18/18 [==============================] - 0s 2ms/step - loss: 0.4376 - accuracy: 0.7867 - val_loss: 0.4642 - val_accuracy: 0.7865\n",
      "Epoch 206/350\n",
      "18/18 [==============================] - 0s 2ms/step - loss: 0.4238 - accuracy: 0.8038 - val_loss: 0.4659 - val_accuracy: 0.7812\n",
      "Epoch 207/350\n",
      "18/18 [==============================] - 0s 2ms/step - loss: 0.4401 - accuracy: 0.7926 - val_loss: 0.4640 - val_accuracy: 0.7865\n",
      "Epoch 208/350\n",
      "18/18 [==============================] - 0s 2ms/step - loss: 0.4229 - accuracy: 0.8000 - val_loss: 0.4646 - val_accuracy: 0.7812\n",
      "Epoch 209/350\n",
      "18/18 [==============================] - 0s 2ms/step - loss: 0.4369 - accuracy: 0.7859 - val_loss: 0.4651 - val_accuracy: 0.7812\n",
      "Epoch 210/350\n",
      "18/18 [==============================] - 0s 2ms/step - loss: 0.4693 - accuracy: 0.7780 - val_loss: 0.4657 - val_accuracy: 0.7812\n",
      "Epoch 211/350\n",
      "18/18 [==============================] - 0s 2ms/step - loss: 0.4384 - accuracy: 0.7854 - val_loss: 0.4637 - val_accuracy: 0.7865\n",
      "Epoch 212/350\n",
      "18/18 [==============================] - 0s 2ms/step - loss: 0.4457 - accuracy: 0.7875 - val_loss: 0.4650 - val_accuracy: 0.7865\n",
      "Epoch 213/350\n",
      "18/18 [==============================] - 0s 2ms/step - loss: 0.4509 - accuracy: 0.7744 - val_loss: 0.4652 - val_accuracy: 0.7812\n",
      "Epoch 214/350\n",
      "18/18 [==============================] - 0s 2ms/step - loss: 0.4559 - accuracy: 0.7803 - val_loss: 0.4651 - val_accuracy: 0.7812\n",
      "Epoch 215/350\n",
      "18/18 [==============================] - 0s 2ms/step - loss: 0.4233 - accuracy: 0.7956 - val_loss: 0.4657 - val_accuracy: 0.7812\n",
      "Epoch 216/350\n",
      "18/18 [==============================] - 0s 2ms/step - loss: 0.4373 - accuracy: 0.7960 - val_loss: 0.4656 - val_accuracy: 0.7812\n",
      "Epoch 217/350\n",
      "18/18 [==============================] - 0s 2ms/step - loss: 0.4521 - accuracy: 0.7742 - val_loss: 0.4628 - val_accuracy: 0.7865\n",
      "Epoch 218/350\n",
      "18/18 [==============================] - 0s 2ms/step - loss: 0.4490 - accuracy: 0.7798 - val_loss: 0.4651 - val_accuracy: 0.7812\n",
      "Epoch 219/350\n",
      "18/18 [==============================] - 0s 2ms/step - loss: 0.4519 - accuracy: 0.7637 - val_loss: 0.4645 - val_accuracy: 0.7812\n",
      "Epoch 220/350\n",
      "18/18 [==============================] - 0s 2ms/step - loss: 0.4547 - accuracy: 0.7904 - val_loss: 0.4642 - val_accuracy: 0.7865\n",
      "Epoch 221/350\n",
      "18/18 [==============================] - 0s 2ms/step - loss: 0.4483 - accuracy: 0.7866 - val_loss: 0.4656 - val_accuracy: 0.7812\n",
      "Epoch 222/350\n",
      "18/18 [==============================] - 0s 2ms/step - loss: 0.4558 - accuracy: 0.7616 - val_loss: 0.4655 - val_accuracy: 0.7812\n",
      "Epoch 223/350\n",
      "18/18 [==============================] - 0s 2ms/step - loss: 0.4764 - accuracy: 0.7622 - val_loss: 0.4625 - val_accuracy: 0.7865\n",
      "Epoch 224/350\n",
      "18/18 [==============================] - 0s 2ms/step - loss: 0.4268 - accuracy: 0.7968 - val_loss: 0.4644 - val_accuracy: 0.7812\n",
      "Epoch 225/350\n",
      "18/18 [==============================] - 0s 2ms/step - loss: 0.4311 - accuracy: 0.7832 - val_loss: 0.4633 - val_accuracy: 0.7865\n",
      "Epoch 226/350\n",
      "18/18 [==============================] - 0s 2ms/step - loss: 0.4455 - accuracy: 0.7794 - val_loss: 0.4645 - val_accuracy: 0.7865\n",
      "Epoch 227/350\n",
      "18/18 [==============================] - 0s 2ms/step - loss: 0.4191 - accuracy: 0.7973 - val_loss: 0.4652 - val_accuracy: 0.7865\n",
      "Epoch 228/350\n",
      "18/18 [==============================] - 0s 2ms/step - loss: 0.4257 - accuracy: 0.7857 - val_loss: 0.4638 - val_accuracy: 0.7865\n",
      "Epoch 229/350\n",
      "18/18 [==============================] - 0s 2ms/step - loss: 0.4344 - accuracy: 0.7932 - val_loss: 0.4659 - val_accuracy: 0.7812\n",
      "Epoch 230/350\n"
     ]
    },
    {
     "name": "stdout",
     "output_type": "stream",
     "text": [
      "18/18 [==============================] - 0s 2ms/step - loss: 0.4225 - accuracy: 0.7998 - val_loss: 0.4655 - val_accuracy: 0.7812\n",
      "Epoch 231/350\n",
      "18/18 [==============================] - 0s 2ms/step - loss: 0.4445 - accuracy: 0.7804 - val_loss: 0.4654 - val_accuracy: 0.7812\n",
      "Epoch 232/350\n",
      "18/18 [==============================] - 0s 2ms/step - loss: 0.4154 - accuracy: 0.8055 - val_loss: 0.4655 - val_accuracy: 0.7812\n",
      "Epoch 233/350\n",
      "18/18 [==============================] - 0s 2ms/step - loss: 0.4408 - accuracy: 0.7796 - val_loss: 0.4659 - val_accuracy: 0.7812\n",
      "Epoch 234/350\n",
      "18/18 [==============================] - 0s 2ms/step - loss: 0.4178 - accuracy: 0.7901 - val_loss: 0.4649 - val_accuracy: 0.7865\n",
      "Epoch 235/350\n",
      "18/18 [==============================] - 0s 2ms/step - loss: 0.4125 - accuracy: 0.8089 - val_loss: 0.4673 - val_accuracy: 0.7812\n",
      "Epoch 236/350\n",
      "18/18 [==============================] - 0s 2ms/step - loss: 0.4674 - accuracy: 0.7833 - val_loss: 0.4657 - val_accuracy: 0.7812\n",
      "Epoch 237/350\n",
      "18/18 [==============================] - 0s 2ms/step - loss: 0.4449 - accuracy: 0.7719 - val_loss: 0.4665 - val_accuracy: 0.7812\n",
      "Epoch 238/350\n",
      "18/18 [==============================] - 0s 2ms/step - loss: 0.4343 - accuracy: 0.7889 - val_loss: 0.4654 - val_accuracy: 0.7812\n",
      "Epoch 239/350\n",
      "18/18 [==============================] - 0s 2ms/step - loss: 0.4359 - accuracy: 0.7814 - val_loss: 0.4655 - val_accuracy: 0.7812\n",
      "Epoch 240/350\n",
      "18/18 [==============================] - 0s 2ms/step - loss: 0.4270 - accuracy: 0.7881 - val_loss: 0.4656 - val_accuracy: 0.7812\n",
      "Epoch 241/350\n",
      "18/18 [==============================] - 0s 2ms/step - loss: 0.4493 - accuracy: 0.7852 - val_loss: 0.4642 - val_accuracy: 0.7865\n",
      "Epoch 242/350\n",
      "18/18 [==============================] - 0s 2ms/step - loss: 0.4497 - accuracy: 0.7931 - val_loss: 0.4657 - val_accuracy: 0.7812\n",
      "Epoch 243/350\n",
      "18/18 [==============================] - 0s 2ms/step - loss: 0.4220 - accuracy: 0.7814 - val_loss: 0.4656 - val_accuracy: 0.7812\n",
      "Epoch 244/350\n",
      "18/18 [==============================] - 0s 2ms/step - loss: 0.4468 - accuracy: 0.7963 - val_loss: 0.4663 - val_accuracy: 0.7865\n",
      "Epoch 245/350\n",
      "18/18 [==============================] - 0s 2ms/step - loss: 0.4424 - accuracy: 0.7804 - val_loss: 0.4665 - val_accuracy: 0.7812\n",
      "Epoch 246/350\n",
      "18/18 [==============================] - 0s 2ms/step - loss: 0.4204 - accuracy: 0.7995 - val_loss: 0.4661 - val_accuracy: 0.7812\n",
      "Epoch 247/350\n",
      "18/18 [==============================] - 0s 2ms/step - loss: 0.4277 - accuracy: 0.7895 - val_loss: 0.4653 - val_accuracy: 0.7865\n",
      "Epoch 248/350\n",
      "18/18 [==============================] - 0s 2ms/step - loss: 0.4489 - accuracy: 0.7829 - val_loss: 0.4674 - val_accuracy: 0.7812\n",
      "Epoch 249/350\n",
      "18/18 [==============================] - 0s 2ms/step - loss: 0.4272 - accuracy: 0.7884 - val_loss: 0.4650 - val_accuracy: 0.7812\n",
      "Epoch 250/350\n",
      "18/18 [==============================] - 0s 2ms/step - loss: 0.4745 - accuracy: 0.7521 - val_loss: 0.4657 - val_accuracy: 0.7812\n",
      "Epoch 251/350\n",
      "18/18 [==============================] - 0s 2ms/step - loss: 0.4490 - accuracy: 0.7835 - val_loss: 0.4660 - val_accuracy: 0.7812\n",
      "Epoch 252/350\n",
      "18/18 [==============================] - 0s 2ms/step - loss: 0.4115 - accuracy: 0.7910 - val_loss: 0.4666 - val_accuracy: 0.7812\n",
      "Epoch 253/350\n",
      "18/18 [==============================] - 0s 2ms/step - loss: 0.4747 - accuracy: 0.7747 - val_loss: 0.4651 - val_accuracy: 0.7812\n",
      "Epoch 254/350\n",
      "18/18 [==============================] - 0s 2ms/step - loss: 0.4671 - accuracy: 0.7781 - val_loss: 0.4664 - val_accuracy: 0.7812\n",
      "Epoch 255/350\n",
      "18/18 [==============================] - 0s 2ms/step - loss: 0.4362 - accuracy: 0.8015 - val_loss: 0.4664 - val_accuracy: 0.7812\n",
      "Epoch 256/350\n",
      "18/18 [==============================] - 0s 2ms/step - loss: 0.4340 - accuracy: 0.7927 - val_loss: 0.4655 - val_accuracy: 0.7812\n",
      "Epoch 257/350\n",
      "18/18 [==============================] - 0s 2ms/step - loss: 0.4266 - accuracy: 0.8034 - val_loss: 0.4657 - val_accuracy: 0.7812\n",
      "Epoch 258/350\n",
      "18/18 [==============================] - 0s 2ms/step - loss: 0.4774 - accuracy: 0.7639 - val_loss: 0.4667 - val_accuracy: 0.7812\n",
      "Epoch 259/350\n",
      "18/18 [==============================] - 0s 2ms/step - loss: 0.4321 - accuracy: 0.7956 - val_loss: 0.4657 - val_accuracy: 0.7812\n",
      "Epoch 260/350\n",
      "18/18 [==============================] - 0s 2ms/step - loss: 0.4315 - accuracy: 0.7949 - val_loss: 0.4654 - val_accuracy: 0.7865\n",
      "Epoch 261/350\n",
      "18/18 [==============================] - 0s 2ms/step - loss: 0.4511 - accuracy: 0.7820 - val_loss: 0.4657 - val_accuracy: 0.7812\n",
      "Epoch 262/350\n",
      "18/18 [==============================] - 0s 2ms/step - loss: 0.4361 - accuracy: 0.7942 - val_loss: 0.4652 - val_accuracy: 0.7812\n",
      "Epoch 263/350\n",
      "18/18 [==============================] - 0s 2ms/step - loss: 0.4532 - accuracy: 0.7607 - val_loss: 0.4650 - val_accuracy: 0.7812\n",
      "Epoch 264/350\n",
      "18/18 [==============================] - 0s 2ms/step - loss: 0.4419 - accuracy: 0.7828 - val_loss: 0.4680 - val_accuracy: 0.7865\n",
      "Epoch 265/350\n",
      "18/18 [==============================] - 0s 2ms/step - loss: 0.4147 - accuracy: 0.8024 - val_loss: 0.4676 - val_accuracy: 0.7865\n",
      "Epoch 266/350\n",
      "18/18 [==============================] - 0s 2ms/step - loss: 0.4274 - accuracy: 0.8061 - val_loss: 0.4640 - val_accuracy: 0.7917\n",
      "Epoch 267/350\n",
      "18/18 [==============================] - 0s 2ms/step - loss: 0.4292 - accuracy: 0.7976 - val_loss: 0.4651 - val_accuracy: 0.7812\n",
      "Epoch 268/350\n",
      "18/18 [==============================] - 0s 2ms/step - loss: 0.4477 - accuracy: 0.7797 - val_loss: 0.4683 - val_accuracy: 0.7865\n",
      "Epoch 269/350\n",
      "18/18 [==============================] - 0s 2ms/step - loss: 0.3976 - accuracy: 0.8045 - val_loss: 0.4662 - val_accuracy: 0.7865\n",
      "Epoch 270/350\n",
      "18/18 [==============================] - 0s 2ms/step - loss: 0.4344 - accuracy: 0.7938 - val_loss: 0.4665 - val_accuracy: 0.7865\n",
      "Epoch 271/350\n",
      "18/18 [==============================] - 0s 2ms/step - loss: 0.4482 - accuracy: 0.7880 - val_loss: 0.4652 - val_accuracy: 0.7865\n",
      "Epoch 272/350\n",
      "18/18 [==============================] - 0s 2ms/step - loss: 0.4333 - accuracy: 0.8036 - val_loss: 0.4667 - val_accuracy: 0.7865\n",
      "Epoch 273/350\n",
      "18/18 [==============================] - 0s 2ms/step - loss: 0.4012 - accuracy: 0.8171 - val_loss: 0.4662 - val_accuracy: 0.7865\n",
      "Epoch 274/350\n",
      "18/18 [==============================] - 0s 2ms/step - loss: 0.4125 - accuracy: 0.7941 - val_loss: 0.4669 - val_accuracy: 0.7865\n",
      "Epoch 275/350\n",
      "18/18 [==============================] - 0s 2ms/step - loss: 0.4020 - accuracy: 0.8235 - val_loss: 0.4655 - val_accuracy: 0.7865\n",
      "Epoch 276/350\n",
      "18/18 [==============================] - 0s 2ms/step - loss: 0.4578 - accuracy: 0.7757 - val_loss: 0.4659 - val_accuracy: 0.7865\n",
      "Epoch 277/350\n",
      "18/18 [==============================] - 0s 2ms/step - loss: 0.4055 - accuracy: 0.8211 - val_loss: 0.4661 - val_accuracy: 0.7865\n",
      "Epoch 278/350\n",
      "18/18 [==============================] - 0s 2ms/step - loss: 0.4787 - accuracy: 0.7714 - val_loss: 0.4663 - val_accuracy: 0.7865\n",
      "Epoch 279/350\n",
      "18/18 [==============================] - 0s 2ms/step - loss: 0.4409 - accuracy: 0.7768 - val_loss: 0.4668 - val_accuracy: 0.7865\n",
      "Epoch 280/350\n",
      "18/18 [==============================] - 0s 2ms/step - loss: 0.4164 - accuracy: 0.8088 - val_loss: 0.4649 - val_accuracy: 0.7865\n",
      "Epoch 281/350\n",
      "18/18 [==============================] - 0s 2ms/step - loss: 0.4259 - accuracy: 0.7902 - val_loss: 0.4656 - val_accuracy: 0.7865\n",
      "Epoch 282/350\n",
      "18/18 [==============================] - 0s 2ms/step - loss: 0.4337 - accuracy: 0.7821 - val_loss: 0.4651 - val_accuracy: 0.7865\n",
      "Epoch 283/350\n",
      "18/18 [==============================] - 0s 2ms/step - loss: 0.4371 - accuracy: 0.7812 - val_loss: 0.4662 - val_accuracy: 0.7865\n",
      "Epoch 284/350\n",
      "18/18 [==============================] - 0s 2ms/step - loss: 0.4334 - accuracy: 0.7781 - val_loss: 0.4652 - val_accuracy: 0.7865\n",
      "Epoch 285/350\n",
      "18/18 [==============================] - 0s 2ms/step - loss: 0.4830 - accuracy: 0.7522 - val_loss: 0.4677 - val_accuracy: 0.7865\n",
      "Epoch 286/350\n",
      "18/18 [==============================] - 0s 2ms/step - loss: 0.4231 - accuracy: 0.8159 - val_loss: 0.4641 - val_accuracy: 0.7865\n",
      "Epoch 287/350\n"
     ]
    },
    {
     "name": "stdout",
     "output_type": "stream",
     "text": [
      "18/18 [==============================] - 0s 2ms/step - loss: 0.4539 - accuracy: 0.7753 - val_loss: 0.4661 - val_accuracy: 0.7865\n",
      "Epoch 288/350\n",
      "18/18 [==============================] - 0s 2ms/step - loss: 0.4368 - accuracy: 0.7711 - val_loss: 0.4673 - val_accuracy: 0.7865\n",
      "Epoch 289/350\n",
      "18/18 [==============================] - 0s 2ms/step - loss: 0.4317 - accuracy: 0.8105 - val_loss: 0.4675 - val_accuracy: 0.7865\n",
      "Epoch 290/350\n",
      "18/18 [==============================] - 0s 2ms/step - loss: 0.4501 - accuracy: 0.7790 - val_loss: 0.4657 - val_accuracy: 0.7865\n",
      "Epoch 291/350\n",
      "18/18 [==============================] - 0s 2ms/step - loss: 0.4457 - accuracy: 0.7947 - val_loss: 0.4654 - val_accuracy: 0.7865\n",
      "Epoch 292/350\n",
      "18/18 [==============================] - 0s 2ms/step - loss: 0.4722 - accuracy: 0.7763 - val_loss: 0.4666 - val_accuracy: 0.7865\n",
      "Epoch 293/350\n",
      "18/18 [==============================] - 0s 2ms/step - loss: 0.4493 - accuracy: 0.7846 - val_loss: 0.4678 - val_accuracy: 0.7865\n",
      "Epoch 294/350\n",
      "18/18 [==============================] - 0s 2ms/step - loss: 0.4659 - accuracy: 0.7816 - val_loss: 0.4635 - val_accuracy: 0.7865\n",
      "Epoch 295/350\n",
      "18/18 [==============================] - 0s 2ms/step - loss: 0.4549 - accuracy: 0.7888 - val_loss: 0.4652 - val_accuracy: 0.7865\n",
      "Epoch 296/350\n",
      "18/18 [==============================] - 0s 2ms/step - loss: 0.4562 - accuracy: 0.7875 - val_loss: 0.4647 - val_accuracy: 0.7865\n",
      "Epoch 297/350\n",
      "18/18 [==============================] - 0s 2ms/step - loss: 0.4402 - accuracy: 0.7805 - val_loss: 0.4659 - val_accuracy: 0.7865\n",
      "Epoch 298/350\n",
      "18/18 [==============================] - 0s 2ms/step - loss: 0.4413 - accuracy: 0.7820 - val_loss: 0.4642 - val_accuracy: 0.7865\n",
      "Epoch 299/350\n",
      "18/18 [==============================] - 0s 2ms/step - loss: 0.4297 - accuracy: 0.8005 - val_loss: 0.4660 - val_accuracy: 0.7865\n",
      "Epoch 300/350\n",
      "18/18 [==============================] - 0s 2ms/step - loss: 0.4116 - accuracy: 0.7975 - val_loss: 0.4676 - val_accuracy: 0.7865\n",
      "Epoch 301/350\n",
      "18/18 [==============================] - 0s 2ms/step - loss: 0.4729 - accuracy: 0.7655 - val_loss: 0.4651 - val_accuracy: 0.7865\n",
      "Epoch 302/350\n",
      "18/18 [==============================] - 0s 2ms/step - loss: 0.4577 - accuracy: 0.7678 - val_loss: 0.4670 - val_accuracy: 0.7865\n",
      "Epoch 303/350\n",
      "18/18 [==============================] - 0s 2ms/step - loss: 0.4385 - accuracy: 0.7725 - val_loss: 0.4655 - val_accuracy: 0.7865\n",
      "Epoch 304/350\n",
      "18/18 [==============================] - 0s 2ms/step - loss: 0.4403 - accuracy: 0.7906 - val_loss: 0.4641 - val_accuracy: 0.7917\n",
      "Epoch 305/350\n",
      "18/18 [==============================] - 0s 2ms/step - loss: 0.4265 - accuracy: 0.8039 - val_loss: 0.4652 - val_accuracy: 0.7865\n",
      "Epoch 306/350\n",
      "18/18 [==============================] - 0s 2ms/step - loss: 0.4634 - accuracy: 0.7708 - val_loss: 0.4666 - val_accuracy: 0.7865\n",
      "Epoch 307/350\n",
      "18/18 [==============================] - 0s 2ms/step - loss: 0.4490 - accuracy: 0.7709 - val_loss: 0.4675 - val_accuracy: 0.7865\n",
      "Epoch 308/350\n",
      "18/18 [==============================] - 0s 2ms/step - loss: 0.4189 - accuracy: 0.7925 - val_loss: 0.4657 - val_accuracy: 0.7865\n",
      "Epoch 309/350\n",
      "18/18 [==============================] - 0s 2ms/step - loss: 0.4199 - accuracy: 0.8116 - val_loss: 0.4657 - val_accuracy: 0.7865\n",
      "Epoch 310/350\n",
      "18/18 [==============================] - 0s 2ms/step - loss: 0.4003 - accuracy: 0.8122 - val_loss: 0.4664 - val_accuracy: 0.7865\n",
      "Epoch 311/350\n",
      "18/18 [==============================] - 0s 2ms/step - loss: 0.4187 - accuracy: 0.7998 - val_loss: 0.4662 - val_accuracy: 0.7865\n",
      "Epoch 312/350\n",
      "18/18 [==============================] - 0s 2ms/step - loss: 0.4091 - accuracy: 0.8119 - val_loss: 0.4662 - val_accuracy: 0.7865\n",
      "Epoch 313/350\n",
      "18/18 [==============================] - 0s 2ms/step - loss: 0.4108 - accuracy: 0.7847 - val_loss: 0.4662 - val_accuracy: 0.7865\n",
      "Epoch 314/350\n",
      "18/18 [==============================] - 0s 2ms/step - loss: 0.4533 - accuracy: 0.7856 - val_loss: 0.4669 - val_accuracy: 0.7865\n",
      "Epoch 315/350\n",
      "18/18 [==============================] - 0s 2ms/step - loss: 0.4384 - accuracy: 0.7906 - val_loss: 0.4663 - val_accuracy: 0.7865\n",
      "Epoch 316/350\n",
      "18/18 [==============================] - 0s 2ms/step - loss: 0.3869 - accuracy: 0.8212 - val_loss: 0.4657 - val_accuracy: 0.7865\n",
      "Epoch 317/350\n",
      "18/18 [==============================] - 0s 2ms/step - loss: 0.4429 - accuracy: 0.7821 - val_loss: 0.4657 - val_accuracy: 0.7865\n",
      "Epoch 318/350\n",
      "18/18 [==============================] - 0s 2ms/step - loss: 0.4477 - accuracy: 0.7863 - val_loss: 0.4668 - val_accuracy: 0.7865\n",
      "Epoch 319/350\n",
      "18/18 [==============================] - 0s 2ms/step - loss: 0.4402 - accuracy: 0.7771 - val_loss: 0.4663 - val_accuracy: 0.7865\n",
      "Epoch 320/350\n",
      "18/18 [==============================] - 0s 2ms/step - loss: 0.4343 - accuracy: 0.7936 - val_loss: 0.4668 - val_accuracy: 0.7865\n",
      "Epoch 321/350\n",
      "18/18 [==============================] - 0s 2ms/step - loss: 0.4572 - accuracy: 0.7569 - val_loss: 0.4653 - val_accuracy: 0.7865\n",
      "Epoch 322/350\n",
      "18/18 [==============================] - 0s 2ms/step - loss: 0.4273 - accuracy: 0.8146 - val_loss: 0.4660 - val_accuracy: 0.7865\n",
      "Epoch 323/350\n",
      "18/18 [==============================] - 0s 2ms/step - loss: 0.4701 - accuracy: 0.7771 - val_loss: 0.4668 - val_accuracy: 0.7865\n",
      "Epoch 324/350\n",
      "18/18 [==============================] - 0s 2ms/step - loss: 0.4227 - accuracy: 0.7882 - val_loss: 0.4673 - val_accuracy: 0.7865\n",
      "Epoch 325/350\n",
      "18/18 [==============================] - 0s 2ms/step - loss: 0.4735 - accuracy: 0.7664 - val_loss: 0.4671 - val_accuracy: 0.7865\n",
      "Epoch 326/350\n",
      "18/18 [==============================] - 0s 2ms/step - loss: 0.4222 - accuracy: 0.8031 - val_loss: 0.4657 - val_accuracy: 0.7865\n",
      "Epoch 327/350\n",
      "18/18 [==============================] - 0s 2ms/step - loss: 0.4563 - accuracy: 0.7842 - val_loss: 0.4655 - val_accuracy: 0.7865\n",
      "Epoch 328/350\n",
      "18/18 [==============================] - 0s 2ms/step - loss: 0.4401 - accuracy: 0.7996 - val_loss: 0.4659 - val_accuracy: 0.7865\n",
      "Epoch 329/350\n",
      "18/18 [==============================] - 0s 2ms/step - loss: 0.4132 - accuracy: 0.8192 - val_loss: 0.4674 - val_accuracy: 0.7865\n",
      "Epoch 330/350\n",
      "18/18 [==============================] - 0s 2ms/step - loss: 0.4258 - accuracy: 0.7921 - val_loss: 0.4665 - val_accuracy: 0.7865\n",
      "Epoch 331/350\n",
      "18/18 [==============================] - 0s 2ms/step - loss: 0.4609 - accuracy: 0.7811 - val_loss: 0.4654 - val_accuracy: 0.7865\n",
      "Epoch 332/350\n",
      "18/18 [==============================] - 0s 2ms/step - loss: 0.4341 - accuracy: 0.7896 - val_loss: 0.4652 - val_accuracy: 0.7865\n",
      "Epoch 333/350\n",
      "18/18 [==============================] - 0s 2ms/step - loss: 0.4559 - accuracy: 0.7782 - val_loss: 0.4671 - val_accuracy: 0.7865\n",
      "Epoch 334/350\n",
      "18/18 [==============================] - 0s 2ms/step - loss: 0.4084 - accuracy: 0.8093 - val_loss: 0.4653 - val_accuracy: 0.7865\n",
      "Epoch 335/350\n",
      "18/18 [==============================] - 0s 2ms/step - loss: 0.4220 - accuracy: 0.7954 - val_loss: 0.4675 - val_accuracy: 0.7865\n",
      "Epoch 336/350\n",
      "18/18 [==============================] - 0s 2ms/step - loss: 0.4551 - accuracy: 0.7789 - val_loss: 0.4658 - val_accuracy: 0.7865\n",
      "Epoch 337/350\n",
      "18/18 [==============================] - 0s 2ms/step - loss: 0.4308 - accuracy: 0.7889 - val_loss: 0.4663 - val_accuracy: 0.7865\n",
      "Epoch 338/350\n",
      "18/18 [==============================] - 0s 2ms/step - loss: 0.4652 - accuracy: 0.7588 - val_loss: 0.4653 - val_accuracy: 0.7865\n",
      "Epoch 339/350\n",
      "18/18 [==============================] - 0s 2ms/step - loss: 0.4318 - accuracy: 0.7899 - val_loss: 0.4661 - val_accuracy: 0.7865\n",
      "Epoch 340/350\n",
      "18/18 [==============================] - 0s 2ms/step - loss: 0.4614 - accuracy: 0.7693 - val_loss: 0.4661 - val_accuracy: 0.7865\n",
      "Epoch 341/350\n",
      "18/18 [==============================] - 0s 2ms/step - loss: 0.4389 - accuracy: 0.7786 - val_loss: 0.4645 - val_accuracy: 0.7917\n",
      "Epoch 342/350\n",
      "18/18 [==============================] - 0s 2ms/step - loss: 0.4255 - accuracy: 0.7890 - val_loss: 0.4667 - val_accuracy: 0.7865\n",
      "Epoch 343/350\n",
      "18/18 [==============================] - 0s 2ms/step - loss: 0.4366 - accuracy: 0.7929 - val_loss: 0.4668 - val_accuracy: 0.7865\n",
      "Epoch 344/350\n"
     ]
    },
    {
     "name": "stdout",
     "output_type": "stream",
     "text": [
      "18/18 [==============================] - 0s 2ms/step - loss: 0.3822 - accuracy: 0.8243 - val_loss: 0.4653 - val_accuracy: 0.7865\n",
      "Epoch 345/350\n",
      "18/18 [==============================] - 0s 2ms/step - loss: 0.4515 - accuracy: 0.7800 - val_loss: 0.4648 - val_accuracy: 0.7917\n",
      "Epoch 346/350\n",
      "18/18 [==============================] - 0s 2ms/step - loss: 0.4267 - accuracy: 0.7905 - val_loss: 0.4681 - val_accuracy: 0.7865\n",
      "Epoch 347/350\n",
      "18/18 [==============================] - 0s 2ms/step - loss: 0.4397 - accuracy: 0.7977 - val_loss: 0.4656 - val_accuracy: 0.7865\n",
      "Epoch 348/350\n",
      "18/18 [==============================] - 0s 2ms/step - loss: 0.4190 - accuracy: 0.7932 - val_loss: 0.4653 - val_accuracy: 0.7865\n",
      "Epoch 349/350\n",
      "18/18 [==============================] - 0s 2ms/step - loss: 0.4829 - accuracy: 0.7585 - val_loss: 0.4656 - val_accuracy: 0.7865\n",
      "Epoch 350/350\n",
      "18/18 [==============================] - 0s 2ms/step - loss: 0.4608 - accuracy: 0.7784 - val_loss: 0.4669 - val_accuracy: 0.7865\n"
     ]
    },
    {
     "data": {
      "text/plain": [
       "<keras.callbacks.History at 0x1e014eb3f40>"
      ]
     },
     "execution_count": 13,
     "metadata": {},
     "output_type": "execute_result"
    }
   ],
   "source": [
    "diabetes.fit(x_train,y_train,epochs=350,shuffle=True,validation_data=(x_test,y_test))"
   ]
  },
  {
   "cell_type": "code",
   "execution_count": 14,
   "id": "7145d1c7",
   "metadata": {
    "slideshow": {
     "slide_type": "skip"
    }
   },
   "outputs": [
    {
     "data": {
      "text/html": [
       "<div>\n",
       "<style scoped>\n",
       "    .dataframe tbody tr th:only-of-type {\n",
       "        vertical-align: middle;\n",
       "    }\n",
       "\n",
       "    .dataframe tbody tr th {\n",
       "        vertical-align: top;\n",
       "    }\n",
       "\n",
       "    .dataframe thead th {\n",
       "        text-align: right;\n",
       "    }\n",
       "</style>\n",
       "<table border=\"1\" class=\"dataframe\">\n",
       "  <thead>\n",
       "    <tr style=\"text-align: right;\">\n",
       "      <th></th>\n",
       "      <th>Pregnancies</th>\n",
       "      <th>Glucose</th>\n",
       "      <th>BloodPressure</th>\n",
       "      <th>SkinThickness</th>\n",
       "      <th>Insulin</th>\n",
       "      <th>BMI</th>\n",
       "      <th>DiabetesPedigreeFunction</th>\n",
       "      <th>Age</th>\n",
       "      <th>Outcome</th>\n",
       "    </tr>\n",
       "  </thead>\n",
       "  <tbody>\n",
       "    <tr>\n",
       "      <th>763</th>\n",
       "      <td>10</td>\n",
       "      <td>101</td>\n",
       "      <td>76</td>\n",
       "      <td>48</td>\n",
       "      <td>180</td>\n",
       "      <td>32.9</td>\n",
       "      <td>0.171</td>\n",
       "      <td>63</td>\n",
       "      <td>0</td>\n",
       "    </tr>\n",
       "    <tr>\n",
       "      <th>764</th>\n",
       "      <td>2</td>\n",
       "      <td>122</td>\n",
       "      <td>70</td>\n",
       "      <td>27</td>\n",
       "      <td>0</td>\n",
       "      <td>36.8</td>\n",
       "      <td>0.340</td>\n",
       "      <td>27</td>\n",
       "      <td>0</td>\n",
       "    </tr>\n",
       "    <tr>\n",
       "      <th>765</th>\n",
       "      <td>5</td>\n",
       "      <td>121</td>\n",
       "      <td>72</td>\n",
       "      <td>23</td>\n",
       "      <td>112</td>\n",
       "      <td>26.2</td>\n",
       "      <td>0.245</td>\n",
       "      <td>30</td>\n",
       "      <td>0</td>\n",
       "    </tr>\n",
       "    <tr>\n",
       "      <th>766</th>\n",
       "      <td>1</td>\n",
       "      <td>126</td>\n",
       "      <td>60</td>\n",
       "      <td>0</td>\n",
       "      <td>0</td>\n",
       "      <td>30.1</td>\n",
       "      <td>0.349</td>\n",
       "      <td>47</td>\n",
       "      <td>1</td>\n",
       "    </tr>\n",
       "    <tr>\n",
       "      <th>767</th>\n",
       "      <td>1</td>\n",
       "      <td>93</td>\n",
       "      <td>70</td>\n",
       "      <td>31</td>\n",
       "      <td>0</td>\n",
       "      <td>30.4</td>\n",
       "      <td>0.315</td>\n",
       "      <td>23</td>\n",
       "      <td>0</td>\n",
       "    </tr>\n",
       "  </tbody>\n",
       "</table>\n",
       "</div>"
      ],
      "text/plain": [
       "     Pregnancies  Glucose  BloodPressure  SkinThickness  Insulin   BMI  \\\n",
       "763           10      101             76             48      180  32.9   \n",
       "764            2      122             70             27        0  36.8   \n",
       "765            5      121             72             23      112  26.2   \n",
       "766            1      126             60              0        0  30.1   \n",
       "767            1       93             70             31        0  30.4   \n",
       "\n",
       "     DiabetesPedigreeFunction  Age  Outcome  \n",
       "763                     0.171   63        0  \n",
       "764                     0.340   27        0  \n",
       "765                     0.245   30        0  \n",
       "766                     0.349   47        1  \n",
       "767                     0.315   23        0  "
      ]
     },
     "execution_count": 14,
     "metadata": {},
     "output_type": "execute_result"
    }
   ],
   "source": [
    "df.tail()  # Note row 766"
   ]
  },
  {
   "cell_type": "code",
   "execution_count": 15,
   "id": "6d22de75",
   "metadata": {
    "slideshow": {
     "slide_type": "skip"
    }
   },
   "outputs": [],
   "source": [
    "y = diabetes.predict([[1,126,60,0,30.1,47]])"
   ]
  },
  {
   "cell_type": "code",
   "execution_count": 16,
   "id": "4d344aa6",
   "metadata": {
    "slideshow": {
     "slide_type": "skip"
    }
   },
   "outputs": [
    {
     "name": "stdout",
     "output_type": "stream",
     "text": [
      "[1]\n"
     ]
    }
   ],
   "source": [
    "p = []\n",
    "for ii in range(0,y.shape[0]):\n",
    "    p.append(np.argmax(y[ii])) \n",
    "print(p)"
   ]
  },
  {
   "cell_type": "markdown",
   "id": "b00a7016",
   "metadata": {
    "slideshow": {
     "slide_type": "slide"
    }
   },
   "source": [
    "***Now we shall try to predict the pedigree function of a person which basically tells us the ancestoral history of being diabetic and diabetes has close connections with family***"
   ]
  },
  {
   "cell_type": "code",
   "execution_count": 17,
   "id": "c059f0ff",
   "metadata": {
    "slideshow": {
     "slide_type": "subslide"
    }
   },
   "outputs": [],
   "source": [
    "y_val = df['DiabetesPedigreeFunction']*1000 #Point to note\n",
    "y_val = y_val.apply(np.ceil) "
   ]
  },
  {
   "cell_type": "markdown",
   "id": "2b011895",
   "metadata": {
    "slideshow": {
     "slide_type": "subslide"
    }
   },
   "source": [
    "**Here pedigree values are in the order of e-3 and hence i have mutiplied by thousand and rounded them off so as to make it easier for the model to work with data and i have undone this step in the end to get the actual value**"
   ]
  },
  {
   "cell_type": "code",
   "execution_count": 18,
   "id": "e0c51a80",
   "metadata": {
    "slideshow": {
     "slide_type": "subslide"
    }
   },
   "outputs": [],
   "source": [
    "x_val = df[[\"Pregnancies\",\"Glucose\",\"BloodPressure\",\"Insulin\",\n",
    "            \"BMI\",\"Age\",\"Outcome\"]]\n",
    "x_train, x_test, y_train,y_test = train_test_split(x_val,y_val,random_state = 5,test_size = 0.25)\n",
    "x_train = scale.fit_transform(x_train)\n",
    "x_test = scale.transform(x_test)"
   ]
  },
  {
   "cell_type": "code",
   "execution_count": 19,
   "id": "171c52c8",
   "metadata": {
    "slideshow": {
     "slide_type": "skip"
    }
   },
   "outputs": [
    {
     "name": "stdout",
     "output_type": "stream",
     "text": [
      "(576, 7)\n",
      "(192, 7)\n",
      "(576,)\n",
      "(192,)\n"
     ]
    }
   ],
   "source": [
    "print(x_train.shape)\n",
    "print(x_test.shape)\n",
    "print(y_train.shape)\n",
    "print(y_test.shape)"
   ]
  },
  {
   "cell_type": "code",
   "execution_count": 20,
   "id": "a335e766",
   "metadata": {
    "slideshow": {
     "slide_type": "slide"
    }
   },
   "outputs": [],
   "source": [
    "KNN = KNN.fit(x_train,y_train)"
   ]
  },
  {
   "cell_type": "code",
   "execution_count": 21,
   "id": "7f32bd43",
   "metadata": {
    "slideshow": {
     "slide_type": "slide"
    }
   },
   "outputs": [],
   "source": [
    "d = {\"Pregnancies\":[10],\"Glucose\":[101],\"BloodPressure\":[76],\"Insulin\":[180],\n",
    "     \"BMI\":[32.9],\"Age\":[63],\"Outcome\":[0]}\n",
    "testdf = pd.DataFrame(data = d)"
   ]
  },
  {
   "cell_type": "code",
   "execution_count": 22,
   "id": "9678bdc6",
   "metadata": {
    "slideshow": {
     "slide_type": "subslide"
    }
   },
   "outputs": [
    {
     "data": {
      "text/plain": [
       "array([0.158])"
      ]
     },
     "execution_count": 22,
     "metadata": {},
     "output_type": "execute_result"
    }
   ],
   "source": [
    "KNN.predict(testdf)/1000"
   ]
  },
  {
   "cell_type": "markdown",
   "id": "dcbd1d48",
   "metadata": {
    "slideshow": {
     "slide_type": "subslide"
    }
   },
   "source": [
    "Here we can see that the true value is 0.171 but here there is a good approximation and only differs to the true value by -2f decimal places"
   ]
  },
  {
   "cell_type": "code",
   "execution_count": 24,
   "id": "aab1c3c9",
   "metadata": {
    "slideshow": {
     "slide_type": "slide"
    }
   },
   "outputs": [],
   "source": [
    "def diab_inp():\n",
    "    a = float(input(\"Enter number of Pregnancies : \"))\n",
    "    b = float(input(\"Enter Glucose level in blood : \"))\n",
    "    c = float(input(\"Enter Blood Pressure : \"))\n",
    "    d = float(input(\"Enter insulin level in blood : \"))\n",
    "    e = float(input(\"Enter BMI : \"))\n",
    "    g = float(input(\"Enter Age : \"))\n",
    "    return a,b,c,d,e,g\n",
    "\n",
    "def predict_from_array(model,*args):\n",
    "    \n",
    "    z = [[i for i in args]]\n",
    "    o = model.predict(np.array(z))\n",
    "    return np.argmax(o)"
   ]
  },
  {
   "cell_type": "code",
   "execution_count": 45,
   "id": "5b21e0eb",
   "metadata": {
    "slideshow": {
     "slide_type": "slide"
    }
   },
   "outputs": [
    {
     "name": "stdout",
     "output_type": "stream",
     "text": [
      "Enter number of Pregnancies : 1\n",
      "Enter Glucose level in blood : 126\n",
      "Enter Blood Pressure : 76\n",
      "Enter insulin level in blood : 0\n",
      "Enter BMI : 30.1\n",
      "Enter Age : 47\n",
      "Enter required action : predict diabetes \n",
      "\n",
      "You are predicted 1 for Diabetes with 79% accuracy\n",
      "\n",
      "Enter required action : quit\n",
      "\n",
      "Thank you for using my program !!\n",
      "\n"
     ]
    }
   ],
   "source": [
    "a,b,c,d,e,f = diab_inp()\n",
    "while True:\n",
    "    ch = input(\"Enter required action : \").upper().strip()\n",
    "    print()\n",
    "    if ch == \"PREDICT DIABETES\":\n",
    "        is_diabetic = predict_from_array(diabetes,a,b,c,d,e,f)\n",
    "        print(f\"You are predicted {(is_diabetic)} for Diabetes with 79% accuracy\")\n",
    "        print()\n",
    "    elif ch == \"PREDICT DIABETES PEDIGREE FUNCTION\":\n",
    "        is_diabetic = predict_from_array(diabetes,a,b,c,d,e,f)\n",
    "        print(f\"You are predicted {(is_diabetic)} for Diabetes with 79% accuracy\")\n",
    "        print()\n",
    "        d = {\"Pregnancies\":[a],\"Glucose\":[b],\"BloodPressure\":[c],\"Insulin\":[d],\n",
    "             \"BMI\":[e],\"Age\":[f],\"Outcome\":[(is_diabetic)]}\n",
    "        print(d)\n",
    "        testdf = pd.DataFrame(data = d)\n",
    "        p = KNN.predict(testdf)/1000\n",
    "        print(f\"Your diabetes pedigree function is approximately : {p}\")\n",
    "        print()\n",
    "    elif ch == \"QUIT\":\n",
    "        print(\"Thank you for using my program !!\")\n",
    "        print()\n",
    "        break\n",
    "    else:\n",
    "        print(\"Invalid command\")\n",
    "        print()"
   ]
  },
  {
   "cell_type": "code",
   "execution_count": 46,
   "id": "220cd9f3",
   "metadata": {},
   "outputs": [
    {
     "data": {
      "text/html": [
       "<div>\n",
       "<style scoped>\n",
       "    .dataframe tbody tr th:only-of-type {\n",
       "        vertical-align: middle;\n",
       "    }\n",
       "\n",
       "    .dataframe tbody tr th {\n",
       "        vertical-align: top;\n",
       "    }\n",
       "\n",
       "    .dataframe thead th {\n",
       "        text-align: right;\n",
       "    }\n",
       "</style>\n",
       "<table border=\"1\" class=\"dataframe\">\n",
       "  <thead>\n",
       "    <tr style=\"text-align: right;\">\n",
       "      <th></th>\n",
       "      <th>Pregnancies</th>\n",
       "      <th>Glucose</th>\n",
       "      <th>BloodPressure</th>\n",
       "      <th>SkinThickness</th>\n",
       "      <th>Insulin</th>\n",
       "      <th>BMI</th>\n",
       "      <th>DiabetesPedigreeFunction</th>\n",
       "      <th>Age</th>\n",
       "      <th>Outcome</th>\n",
       "    </tr>\n",
       "  </thead>\n",
       "  <tbody>\n",
       "    <tr>\n",
       "      <th>758</th>\n",
       "      <td>1</td>\n",
       "      <td>106</td>\n",
       "      <td>76</td>\n",
       "      <td>0</td>\n",
       "      <td>0</td>\n",
       "      <td>37.5</td>\n",
       "      <td>0.197</td>\n",
       "      <td>26</td>\n",
       "      <td>0</td>\n",
       "    </tr>\n",
       "    <tr>\n",
       "      <th>759</th>\n",
       "      <td>6</td>\n",
       "      <td>190</td>\n",
       "      <td>92</td>\n",
       "      <td>0</td>\n",
       "      <td>0</td>\n",
       "      <td>35.5</td>\n",
       "      <td>0.278</td>\n",
       "      <td>66</td>\n",
       "      <td>1</td>\n",
       "    </tr>\n",
       "    <tr>\n",
       "      <th>760</th>\n",
       "      <td>2</td>\n",
       "      <td>88</td>\n",
       "      <td>58</td>\n",
       "      <td>26</td>\n",
       "      <td>16</td>\n",
       "      <td>28.4</td>\n",
       "      <td>0.766</td>\n",
       "      <td>22</td>\n",
       "      <td>0</td>\n",
       "    </tr>\n",
       "    <tr>\n",
       "      <th>761</th>\n",
       "      <td>9</td>\n",
       "      <td>170</td>\n",
       "      <td>74</td>\n",
       "      <td>31</td>\n",
       "      <td>0</td>\n",
       "      <td>44.0</td>\n",
       "      <td>0.403</td>\n",
       "      <td>43</td>\n",
       "      <td>1</td>\n",
       "    </tr>\n",
       "    <tr>\n",
       "      <th>762</th>\n",
       "      <td>9</td>\n",
       "      <td>89</td>\n",
       "      <td>62</td>\n",
       "      <td>0</td>\n",
       "      <td>0</td>\n",
       "      <td>22.5</td>\n",
       "      <td>0.142</td>\n",
       "      <td>33</td>\n",
       "      <td>0</td>\n",
       "    </tr>\n",
       "    <tr>\n",
       "      <th>763</th>\n",
       "      <td>10</td>\n",
       "      <td>101</td>\n",
       "      <td>76</td>\n",
       "      <td>48</td>\n",
       "      <td>180</td>\n",
       "      <td>32.9</td>\n",
       "      <td>0.171</td>\n",
       "      <td>63</td>\n",
       "      <td>0</td>\n",
       "    </tr>\n",
       "    <tr>\n",
       "      <th>764</th>\n",
       "      <td>2</td>\n",
       "      <td>122</td>\n",
       "      <td>70</td>\n",
       "      <td>27</td>\n",
       "      <td>0</td>\n",
       "      <td>36.8</td>\n",
       "      <td>0.340</td>\n",
       "      <td>27</td>\n",
       "      <td>0</td>\n",
       "    </tr>\n",
       "    <tr>\n",
       "      <th>765</th>\n",
       "      <td>5</td>\n",
       "      <td>121</td>\n",
       "      <td>72</td>\n",
       "      <td>23</td>\n",
       "      <td>112</td>\n",
       "      <td>26.2</td>\n",
       "      <td>0.245</td>\n",
       "      <td>30</td>\n",
       "      <td>0</td>\n",
       "    </tr>\n",
       "    <tr>\n",
       "      <th>766</th>\n",
       "      <td>1</td>\n",
       "      <td>126</td>\n",
       "      <td>60</td>\n",
       "      <td>0</td>\n",
       "      <td>0</td>\n",
       "      <td>30.1</td>\n",
       "      <td>0.349</td>\n",
       "      <td>47</td>\n",
       "      <td>1</td>\n",
       "    </tr>\n",
       "    <tr>\n",
       "      <th>767</th>\n",
       "      <td>1</td>\n",
       "      <td>93</td>\n",
       "      <td>70</td>\n",
       "      <td>31</td>\n",
       "      <td>0</td>\n",
       "      <td>30.4</td>\n",
       "      <td>0.315</td>\n",
       "      <td>23</td>\n",
       "      <td>0</td>\n",
       "    </tr>\n",
       "  </tbody>\n",
       "</table>\n",
       "</div>"
      ],
      "text/plain": [
       "     Pregnancies  Glucose  BloodPressure  SkinThickness  Insulin   BMI  \\\n",
       "758            1      106             76              0        0  37.5   \n",
       "759            6      190             92              0        0  35.5   \n",
       "760            2       88             58             26       16  28.4   \n",
       "761            9      170             74             31        0  44.0   \n",
       "762            9       89             62              0        0  22.5   \n",
       "763           10      101             76             48      180  32.9   \n",
       "764            2      122             70             27        0  36.8   \n",
       "765            5      121             72             23      112  26.2   \n",
       "766            1      126             60              0        0  30.1   \n",
       "767            1       93             70             31        0  30.4   \n",
       "\n",
       "     DiabetesPedigreeFunction  Age  Outcome  \n",
       "758                     0.197   26        0  \n",
       "759                     0.278   66        1  \n",
       "760                     0.766   22        0  \n",
       "761                     0.403   43        1  \n",
       "762                     0.142   33        0  \n",
       "763                     0.171   63        0  \n",
       "764                     0.340   27        0  \n",
       "765                     0.245   30        0  \n",
       "766                     0.349   47        1  \n",
       "767                     0.315   23        0  "
      ]
     },
     "execution_count": 46,
     "metadata": {},
     "output_type": "execute_result"
    }
   ],
   "source": [
    "df.tail(10)\n"
   ]
  },
  {
   "cell_type": "code",
   "execution_count": null,
   "id": "e29171cd",
   "metadata": {},
   "outputs": [],
   "source": []
  }
 ],
 "metadata": {
  "kernelspec": {
   "display_name": "Python 3",
   "language": "python",
   "name": "python3"
  },
  "language_info": {
   "codemirror_mode": {
    "name": "ipython",
    "version": 3
   },
   "file_extension": ".py",
   "mimetype": "text/x-python",
   "name": "python",
   "nbconvert_exporter": "python",
   "pygments_lexer": "ipython3",
   "version": "3.8.8"
  },
  "toc": {
   "base_numbering": 1,
   "nav_menu": {},
   "number_sections": true,
   "sideBar": true,
   "skip_h1_title": false,
   "title_cell": "Table of Contents",
   "title_sidebar": "Contents",
   "toc_cell": false,
   "toc_position": {},
   "toc_section_display": true,
   "toc_window_display": false
  },
  "varInspector": {
   "cols": {
    "lenName": 16,
    "lenType": 16,
    "lenVar": 40
   },
   "kernels_config": {
    "python": {
     "delete_cmd_postfix": "",
     "delete_cmd_prefix": "del ",
     "library": "var_list.py",
     "varRefreshCmd": "print(var_dic_list())"
    },
    "r": {
     "delete_cmd_postfix": ") ",
     "delete_cmd_prefix": "rm(",
     "library": "var_list.r",
     "varRefreshCmd": "cat(var_dic_list()) "
    }
   },
   "types_to_exclude": [
    "module",
    "function",
    "builtin_function_or_method",
    "instance",
    "_Feature"
   ],
   "window_display": false
  }
 },
 "nbformat": 4,
 "nbformat_minor": 5
}
